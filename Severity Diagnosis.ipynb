{
 "cells": [
  {
   "cell_type": "code",
   "execution_count": 1,
   "metadata": {
    "collapsed": false
   },
   "outputs": [
    {
     "name": "stderr",
     "output_type": "stream",
     "text": [
      "Using TensorFlow backend.\n"
     ]
    }
   ],
   "source": [
    "%matplotlib inline\n",
    "from datatypes import ImageTraining as it\n",
    "from models import Models, CNN_models\n",
    "from DataProcessing import transformations, ImageGenerator\n",
    "import numpy as np\n",
    "from misc import utils\n",
    "import os\n",
    "import cv2\n",
    "from collections import Counter\n",
    "from matplotlib import pyplot as plt\n",
    "import models.pretrained as pt\n",
    "import visualization.ModelHistoryPlot as mplot"
   ]
  },
  {
   "cell_type": "code",
   "execution_count": 2,
   "metadata": {
    "collapsed": true
   },
   "outputs": [],
   "source": [
    "file_prefix = '/Users/niquo/Documents/SUMMER17/makerere_projects/image_training/data/Severities_Final/'\n",
    "\n",
    "cbb_files = [file_prefix + 'cbb-levels/cbb_2/',\n",
    "            file_prefix + 'cbb-levels/cbb_3/',\n",
    "            file_prefix + 'cbb-levels/cbb_4/',\n",
    "            file_prefix + 'cbb-levels/cbb_5/']\n",
    "\n",
    "\n",
    "cgm_files = [file_prefix + 'cgm-levels/cgm_2/',\n",
    "            file_prefix + 'cgm-levels/cgm_3/',\n",
    "            file_prefix + 'cgm-levels/cgm_4/',\n",
    "            file_prefix + 'cgm-levels/cgm_5/',]\n",
    "\n",
    "\n",
    "cmd_files = [file_prefix + 'cmd-levels/cmd_2/',\n",
    "            file_prefix + 'cmd-levels/cmd_3/',\n",
    "            file_prefix + 'cmd-levels/cmd_4/',\n",
    "            file_prefix + 'cmd-levels/cmd_5/']\n",
    "\n",
    "\n",
    "cbsd_files = [file_prefix + 'cbsd-levels/cbsd_2/',\n",
    "             file_prefix + 'cbsd-levels/cbsd_3/',\n",
    "             file_prefix + 'cbsd-levels/cbsd_4/',\n",
    "             file_prefix + 'cbsd-levels/cbsd_5/']\n",
    "\n",
    "\n",
    "healthy_images = [file_prefix + 'cbsd-levels/cbsd_1/',\n",
    "                  file_prefix + 'cmd-levels/cmd_1/',\n",
    "                  file_prefix + 'cbb-levels/cbb_1/', \n",
    "                  file_prefix + 'healthy_1/']"
   ]
  },
  {
   "cell_type": "markdown",
   "metadata": {},
   "source": [
    "## Healthy vs CBSD"
   ]
  },
  {
   "cell_type": "code",
   "execution_count": 6,
   "metadata": {
    "collapsed": false
   },
   "outputs": [],
   "source": [
    "label_dict = {1: healthy_images, 0: cbsd_files}"
   ]
  },
  {
   "cell_type": "code",
   "execution_count": 18,
   "metadata": {
    "collapsed": false
   },
   "outputs": [
    {
     "name": "stdout",
     "output_type": "stream",
     "text": [
      "Found 1751 examples with label 0\n",
      "Found 1540 examples with label 1\n"
     ]
    },
    {
     "data": {
      "text/plain": [
       "Counter({(0.0, 1.0): 1540, (1.0, 0.0): 1751})"
      ]
     },
     "execution_count": 18,
     "metadata": {},
     "output_type": "execute_result"
    }
   ],
   "source": [
    "paths, labels = utils.get_paths_labels(label_dict)\n",
    "Counter([tuple(l) for l in labels])"
   ]
  },
  {
   "cell_type": "code",
   "execution_count": 3,
   "metadata": {
    "collapsed": false
   },
   "outputs": [
    {
     "name": "stdout",
     "output_type": "stream",
     "text": [
      "Found 1751 examples with label 0\n",
      "Found 1540 examples with label 1\n",
      "partitioning data with train size 2632 and test size 658\n"
     ]
    }
   ],
   "source": [
    "batch_size = 16\n",
    "target_size = (150, 150)\n",
    "\n",
    "itrain = it.ImageTraining(label_dict)\n",
    "traingen, testgen = itrain.get_train_test_generators(batch_size=batch_size, target_size=target_size)"
   ]
  },
  {
   "cell_type": "code",
   "execution_count": 4,
   "metadata": {
    "collapsed": true
   },
   "outputs": [],
   "source": [
    "channels = 3\n",
    "h,w = target_size\n",
    "class_count = len(label_dict.keys())\n",
    "\n",
    "model = CNN_models.get_multiclass_CNN(class_count=class_count, input_shape=(h,w,channels))"
   ]
  },
  {
   "cell_type": "code",
   "execution_count": 7,
   "metadata": {
    "collapsed": false
   },
   "outputs": [],
   "source": [
    "steps_per_epoch = 2632/batch_size\n",
    "val_steps = 658/batch_size\n",
    "\n",
    "# model.fit_generator(traingen, steps_per_epoch=steps_per_epoch, epochs=25, validation_data=testgen, validation_steps=val_steps)"
   ]
  },
  {
   "cell_type": "code",
   "execution_count": 5,
   "metadata": {
    "collapsed": false
   },
   "outputs": [
    {
     "name": "stdout",
     "output_type": "stream",
     "text": [
      "loading vgg model...\n",
      "image target size (150, 150) with batch size 16\n",
      "running training examples through top model...\n",
      "running validation examples through top model...\n"
     ]
    }
   ],
   "source": [
    "output_train = 'serialized_objects/0804/outputtrain.npy'\n",
    "output_val = 'serialized_objects/0804/outputval.npy'\n",
    "labels = 'serialized_objects/0804/labels.p'\n",
    "\n",
    "pt.get_output_values(traingen, testgen, output_train, output_val, labels)"
   ]
  },
  {
   "cell_type": "code",
   "execution_count": 9,
   "metadata": {
    "collapsed": false
   },
   "outputs": [
    {
     "name": "stdout",
     "output_type": "stream",
     "text": [
      "train top model\n",
      "loaded 2624 training labels and 656 validation labels.\n",
      "loading bottleneck_trian_npy...\n",
      "loaded 2624 training data samples\n",
      "loading bottleneck_val_npy...\n",
      "loaded 656 validation data samples\n",
      "fitting model...\n",
      "Train on 2624 samples, validate on 656 samples\n",
      "Epoch 1/100\n",
      "2624/2624 [==============================] - 5s - loss: 5.7990 - acc: 0.6178 - val_loss: 5.1125 - val_acc: 0.6707\n",
      "Epoch 2/100\n",
      "2624/2624 [==============================] - 4s - loss: 5.2651 - acc: 0.6593 - val_loss: 7.5882 - val_acc: 0.5183\n",
      "Epoch 3/100\n",
      "2624/2624 [==============================] - 4s - loss: 4.6441 - acc: 0.6978 - val_loss: 3.8377 - val_acc: 0.7561\n",
      "Epoch 4/100\n",
      "2624/2624 [==============================] - 5s - loss: 4.5930 - acc: 0.7081 - val_loss: 5.3518 - val_acc: 0.6585\n",
      "Epoch 5/100\n",
      "2624/2624 [==============================] - 5s - loss: 4.6537 - acc: 0.7024 - val_loss: 3.6605 - val_acc: 0.7637\n",
      "Epoch 6/100\n",
      "2624/2624 [==============================] - 4s - loss: 4.0484 - acc: 0.7420 - val_loss: 3.2821 - val_acc: 0.7896\n",
      "Epoch 7/100\n",
      "2624/2624 [==============================] - 4s - loss: 3.8312 - acc: 0.7561 - val_loss: 3.7115 - val_acc: 0.7652\n",
      "Epoch 8/100\n",
      "2624/2624 [==============================] - 4s - loss: 4.0339 - acc: 0.7401 - val_loss: 3.2333 - val_acc: 0.7881\n",
      "Epoch 9/100\n",
      "2624/2624 [==============================] - 4s - loss: 4.3753 - acc: 0.7245 - val_loss: 3.4877 - val_acc: 0.7774\n",
      "Epoch 10/100\n",
      "2624/2624 [==============================] - 4s - loss: 3.9340 - acc: 0.7527 - val_loss: 4.1980 - val_acc: 0.7348\n",
      "Epoch 11/100\n",
      "2624/2624 [==============================] - 4s - loss: 3.8960 - acc: 0.7553 - val_loss: 3.5389 - val_acc: 0.7729\n",
      "Epoch 12/100\n",
      "2624/2624 [==============================] - 4s - loss: 3.9754 - acc: 0.7500 - val_loss: 3.6875 - val_acc: 0.7637\n",
      "Epoch 13/100\n",
      "2624/2624 [==============================] - 5s - loss: 3.8440 - acc: 0.7584 - val_loss: 3.8721 - val_acc: 0.7515\n",
      "Epoch 14/100\n",
      "2624/2624 [==============================] - 5s - loss: 3.7655 - acc: 0.7633 - val_loss: 4.1936 - val_acc: 0.7378\n",
      "Epoch 15/100\n",
      "2624/2624 [==============================] - 5s - loss: 3.5885 - acc: 0.7706 - val_loss: 4.1424 - val_acc: 0.7424\n",
      "Epoch 16/100\n",
      "2624/2624 [==============================] - 5s - loss: 3.7723 - acc: 0.7626 - val_loss: 3.3015 - val_acc: 0.7896\n",
      "Epoch 17/100\n",
      "2624/2624 [==============================] - 5s - loss: 3.6171 - acc: 0.7698 - val_loss: 4.0766 - val_acc: 0.7439\n",
      "Epoch 18/100\n",
      "2624/2624 [==============================] - 5s - loss: 3.7986 - acc: 0.7614 - val_loss: 3.2067 - val_acc: 0.7973\n",
      "Epoch 19/100\n",
      "2624/2624 [==============================] - 5s - loss: 3.6347 - acc: 0.7706 - val_loss: 3.1645 - val_acc: 0.8034\n",
      "Epoch 20/100\n",
      "2624/2624 [==============================] - 5s - loss: 3.5236 - acc: 0.7767 - val_loss: 4.2076 - val_acc: 0.7363\n",
      "Epoch 21/100\n",
      "2624/2624 [==============================] - 5s - loss: 3.8358 - acc: 0.7591 - val_loss: 3.5278 - val_acc: 0.7759\n",
      "Epoch 22/100\n",
      "2624/2624 [==============================] - 5s - loss: 3.3419 - acc: 0.7889 - val_loss: 3.4827 - val_acc: 0.7790\n",
      "Epoch 23/100\n",
      "2624/2624 [==============================] - 5s - loss: 3.5109 - acc: 0.7778 - val_loss: 3.4106 - val_acc: 0.7835\n",
      "Epoch 24/100\n",
      "2624/2624 [==============================] - 5s - loss: 3.4345 - acc: 0.7828 - val_loss: 3.2293 - val_acc: 0.7957\n",
      "Epoch 25/100\n",
      "2624/2624 [==============================] - 5s - loss: 3.2170 - acc: 0.7980 - val_loss: 3.3082 - val_acc: 0.7881\n",
      "Epoch 26/100\n",
      "2624/2624 [==============================] - 5s - loss: 3.4256 - acc: 0.7847 - val_loss: 3.4111 - val_acc: 0.7851\n",
      "Epoch 27/100\n",
      "2624/2624 [==============================] - 4s - loss: 3.4816 - acc: 0.7816 - val_loss: 3.9684 - val_acc: 0.7485\n",
      "Epoch 28/100\n",
      "2624/2624 [==============================] - 4s - loss: 3.4337 - acc: 0.7824 - val_loss: 3.7083 - val_acc: 0.7637\n",
      "Epoch 29/100\n",
      "2624/2624 [==============================] - 4s - loss: 3.2459 - acc: 0.7957 - val_loss: 3.5940 - val_acc: 0.7744\n",
      "Epoch 30/100\n",
      "2624/2624 [==============================] - 4s - loss: 3.4057 - acc: 0.7858 - val_loss: 5.0982 - val_acc: 0.6784\n",
      "Epoch 31/100\n",
      "2624/2624 [==============================] - 4s - loss: 3.3581 - acc: 0.7893 - val_loss: 3.3807 - val_acc: 0.7866\n",
      "Epoch 32/100\n",
      "2624/2624 [==============================] - 4s - loss: 3.3277 - acc: 0.7900 - val_loss: 3.9942 - val_acc: 0.7470\n",
      "Epoch 33/100\n",
      "2624/2624 [==============================] - 4s - loss: 3.4184 - acc: 0.7851 - val_loss: 3.4610 - val_acc: 0.7820\n",
      "Epoch 34/100\n",
      "2624/2624 [==============================] - 4s - loss: 3.5732 - acc: 0.7767 - val_loss: 3.5600 - val_acc: 0.7759\n",
      "Epoch 35/100\n",
      "2624/2624 [==============================] - 4s - loss: 3.2924 - acc: 0.7934 - val_loss: 3.6973 - val_acc: 0.7668\n",
      "Epoch 36/100\n",
      "2624/2624 [==============================] - 4s - loss: 3.2663 - acc: 0.7950 - val_loss: 3.6058 - val_acc: 0.7744\n",
      "Epoch 37/100\n",
      "2624/2624 [==============================] - 4s - loss: 3.1177 - acc: 0.8026 - val_loss: 3.4049 - val_acc: 0.7866\n",
      "Epoch 38/100\n",
      "2624/2624 [==============================] - 4s - loss: 3.0122 - acc: 0.8102 - val_loss: 3.3777 - val_acc: 0.7866\n",
      "Epoch 39/100\n",
      "2624/2624 [==============================] - 4s - loss: 3.1708 - acc: 0.8007 - val_loss: 3.3804 - val_acc: 0.7851\n",
      "Epoch 40/100\n",
      "2624/2624 [==============================] - 4s - loss: 3.1822 - acc: 0.8011 - val_loss: 3.6184 - val_acc: 0.7744\n",
      "Epoch 41/100\n",
      "2624/2624 [==============================] - 4s - loss: 3.0778 - acc: 0.8068 - val_loss: 3.2765 - val_acc: 0.7957\n",
      "Epoch 42/100\n",
      "2624/2624 [==============================] - 4s - loss: 3.0861 - acc: 0.8060 - val_loss: 3.2865 - val_acc: 0.7927\n",
      "Epoch 43/100\n",
      "2624/2624 [==============================] - 4s - loss: 3.0908 - acc: 0.8060 - val_loss: 3.0530 - val_acc: 0.8079\n",
      "Epoch 44/100\n",
      "2624/2624 [==============================] - 4s - loss: 3.0773 - acc: 0.8079 - val_loss: 3.1892 - val_acc: 0.7988\n",
      "Epoch 45/100\n",
      "2624/2624 [==============================] - 4s - loss: 3.3077 - acc: 0.7927 - val_loss: 3.4289 - val_acc: 0.7835\n",
      "Epoch 46/100\n",
      "2624/2624 [==============================] - 4s - loss: 3.1965 - acc: 0.7992 - val_loss: 3.5079 - val_acc: 0.7805\n",
      "Epoch 47/100\n",
      "2624/2624 [==============================] - 4s - loss: 3.0815 - acc: 0.8045 - val_loss: 3.3249 - val_acc: 0.7896\n",
      "Epoch 48/100\n",
      "2624/2624 [==============================] - 4s - loss: 3.0172 - acc: 0.8087 - val_loss: 3.1631 - val_acc: 0.8003\n",
      "Epoch 49/100\n",
      "2624/2624 [==============================] - 4s - loss: 2.9975 - acc: 0.8133 - val_loss: 3.3231 - val_acc: 0.7912\n",
      "Epoch 50/100\n",
      "2624/2624 [==============================] - 4s - loss: 3.1805 - acc: 0.7999 - val_loss: 3.4669 - val_acc: 0.7835\n",
      "Epoch 51/100\n",
      "2624/2624 [==============================] - 5s - loss: 3.0036 - acc: 0.8117 - val_loss: 3.2844 - val_acc: 0.7942\n",
      "Epoch 52/100\n",
      "2624/2624 [==============================] - 5s - loss: 3.0395 - acc: 0.8098 - val_loss: 3.2959 - val_acc: 0.7896\n",
      "Epoch 53/100\n",
      "2624/2624 [==============================] - 5s - loss: 3.0102 - acc: 0.8121 - val_loss: 3.1834 - val_acc: 0.8018\n",
      "Epoch 54/100\n",
      "2624/2624 [==============================] - 5s - loss: 3.0304 - acc: 0.8072 - val_loss: 4.3344 - val_acc: 0.7302\n",
      "Epoch 55/100\n",
      "2624/2624 [==============================] - 6s - loss: 3.0876 - acc: 0.8045 - val_loss: 3.4172 - val_acc: 0.7851\n",
      "Epoch 56/100\n",
      "2624/2624 [==============================] - 5s - loss: 2.8884 - acc: 0.8182 - val_loss: 3.2266 - val_acc: 0.7973\n",
      "Epoch 57/100\n",
      "2624/2624 [==============================] - 5s - loss: 2.7581 - acc: 0.8258 - val_loss: 3.3314 - val_acc: 0.7896\n",
      "Epoch 58/100\n",
      "2624/2624 [==============================] - 6s - loss: 2.9120 - acc: 0.8178 - val_loss: 3.4982 - val_acc: 0.7820\n",
      "Epoch 59/100\n",
      "2624/2624 [==============================] - 5s - loss: 3.2121 - acc: 0.7984 - val_loss: 3.3831 - val_acc: 0.7881\n",
      "Epoch 60/100\n",
      "2624/2624 [==============================] - 5s - loss: 3.0014 - acc: 0.8121 - val_loss: 3.6102 - val_acc: 0.7759\n",
      "Epoch 61/100\n",
      "2624/2624 [==============================] - 5s - loss: 3.2060 - acc: 0.7988 - val_loss: 3.3440 - val_acc: 0.7912\n",
      "Epoch 62/100\n",
      "2624/2624 [==============================] - 5s - loss: 2.8357 - acc: 0.8216 - val_loss: 3.3417 - val_acc: 0.7912\n",
      "Epoch 63/100\n",
      "2624/2624 [==============================] - 5s - loss: 2.7465 - acc: 0.8266 - val_loss: 3.4329 - val_acc: 0.7835\n",
      "Epoch 64/100\n",
      "2624/2624 [==============================] - 6s - loss: 2.8456 - acc: 0.8216 - val_loss: 3.4966 - val_acc: 0.7820\n",
      "Epoch 65/100\n",
      "2624/2624 [==============================] - 6s - loss: 2.7972 - acc: 0.8236 - val_loss: 3.3539 - val_acc: 0.7881\n",
      "Epoch 66/100\n",
      "2624/2624 [==============================] - 6s - loss: 2.8160 - acc: 0.8239 - val_loss: 3.3931 - val_acc: 0.7881\n",
      "Epoch 67/100\n",
      "2624/2624 [==============================] - 4s - loss: 2.8639 - acc: 0.8209 - val_loss: 3.5086 - val_acc: 0.7805\n",
      "Epoch 68/100\n",
      "2624/2624 [==============================] - 5s - loss: 2.9425 - acc: 0.8159 - val_loss: 3.5360 - val_acc: 0.7790\n",
      "Epoch 69/100\n",
      "2624/2624 [==============================] - 5s - loss: 2.7097 - acc: 0.8296 - val_loss: 3.2730 - val_acc: 0.7942\n",
      "Epoch 70/100\n",
      "2624/2624 [==============================] - 4s - loss: 2.7685 - acc: 0.8270 - val_loss: 3.3712 - val_acc: 0.7896\n",
      "Epoch 71/100\n",
      "2624/2624 [==============================] - 4s - loss: 2.8089 - acc: 0.8239 - val_loss: 3.3268 - val_acc: 0.7912\n",
      "Epoch 72/100\n",
      "2624/2624 [==============================] - 4s - loss: 2.9445 - acc: 0.8152 - val_loss: 3.3095 - val_acc: 0.7896\n",
      "Epoch 73/100\n",
      "2624/2624 [==============================] - 5s - loss: 3.0018 - acc: 0.8117 - val_loss: 3.6661 - val_acc: 0.7698\n",
      "Epoch 74/100\n",
      "2624/2624 [==============================] - 4s - loss: 2.7315 - acc: 0.8289 - val_loss: 3.3416 - val_acc: 0.7927\n",
      "Epoch 75/100\n",
      "2624/2624 [==============================] - 6s - loss: 2.6781 - acc: 0.8327 - val_loss: 3.3993 - val_acc: 0.7881\n",
      "Epoch 76/100\n",
      "2624/2624 [==============================] - 5s - loss: 2.6414 - acc: 0.8342 - val_loss: 3.2679 - val_acc: 0.7957\n",
      "Epoch 77/100\n",
      "2624/2624 [==============================] - 4s - loss: 2.8315 - acc: 0.8228 - val_loss: 3.4075 - val_acc: 0.7881\n",
      "Epoch 78/100\n",
      "2624/2624 [==============================] - 5s - loss: 2.8862 - acc: 0.8186 - val_loss: 3.3827 - val_acc: 0.7866\n",
      "Epoch 79/100\n",
      "2624/2624 [==============================] - 5s - loss: 2.8035 - acc: 0.8243 - val_loss: 3.3402 - val_acc: 0.7896\n",
      "Epoch 80/100\n",
      "2624/2624 [==============================] - 4s - loss: 3.0145 - acc: 0.8117 - val_loss: 3.2216 - val_acc: 0.7973\n",
      "Epoch 81/100\n",
      "2624/2624 [==============================] - 4s - loss: 2.7041 - acc: 0.8304 - val_loss: 3.1984 - val_acc: 0.7942\n",
      "Epoch 82/100\n",
      "2624/2624 [==============================] - 4s - loss: 2.8180 - acc: 0.8232 - val_loss: 3.2199 - val_acc: 0.7988\n",
      "Epoch 83/100\n",
      "2624/2624 [==============================] - 4s - loss: 2.6069 - acc: 0.8369 - val_loss: 3.4994 - val_acc: 0.7805\n",
      "Epoch 84/100\n",
      "2624/2624 [==============================] - 4s - loss: 2.8068 - acc: 0.8243 - val_loss: 3.2540 - val_acc: 0.7942\n",
      "Epoch 85/100\n",
      "2624/2624 [==============================] - 5s - loss: 2.6247 - acc: 0.8369 - val_loss: 3.3629 - val_acc: 0.7912\n",
      "Epoch 86/100\n",
      "2624/2624 [==============================] - 5s - loss: 2.8754 - acc: 0.8197 - val_loss: 3.1616 - val_acc: 0.8034\n",
      "Epoch 87/100\n",
      "2624/2624 [==============================] - 5s - loss: 2.7496 - acc: 0.8270 - val_loss: 3.2005 - val_acc: 0.8003\n",
      "Epoch 88/100\n",
      "2624/2624 [==============================] - 4s - loss: 2.5992 - acc: 0.8377 - val_loss: 3.1885 - val_acc: 0.7973\n",
      "Epoch 89/100\n",
      "2624/2624 [==============================] - 5s - loss: 2.8444 - acc: 0.8213 - val_loss: 3.2667 - val_acc: 0.7957\n",
      "Epoch 90/100\n",
      "2624/2624 [==============================] - 5s - loss: 2.8030 - acc: 0.8236 - val_loss: 3.4321 - val_acc: 0.7835\n",
      "Epoch 91/100\n",
      "2624/2624 [==============================] - 4s - loss: 2.8027 - acc: 0.8251 - val_loss: 3.3328 - val_acc: 0.7927\n",
      "Epoch 92/100\n",
      "2624/2624 [==============================] - 4s - loss: 2.6000 - acc: 0.8373 - val_loss: 3.3199 - val_acc: 0.7896\n",
      "Epoch 93/100\n",
      "2624/2624 [==============================] - 5s - loss: 2.5836 - acc: 0.8365 - val_loss: 3.2598 - val_acc: 0.7957\n",
      "Epoch 94/100\n",
      "2624/2624 [==============================] - 5s - loss: 2.6200 - acc: 0.8357 - val_loss: 3.3671 - val_acc: 0.7881\n",
      "Epoch 95/100\n",
      "2624/2624 [==============================] - 4s - loss: 2.8505 - acc: 0.8209 - val_loss: 3.3506 - val_acc: 0.7896\n",
      "Epoch 96/100\n",
      "2624/2624 [==============================] - 4s - loss: 2.5514 - acc: 0.8399 - val_loss: 3.5188 - val_acc: 0.7790\n",
      "Epoch 97/100\n",
      "2624/2624 [==============================] - 4s - loss: 2.9323 - acc: 0.8167 - val_loss: 3.6883 - val_acc: 0.7698\n",
      "Epoch 98/100\n",
      "2624/2624 [==============================] - 4s - loss: 2.6993 - acc: 0.8300 - val_loss: 3.3763 - val_acc: 0.7866\n",
      "Epoch 99/100\n",
      "2624/2624 [==============================] - 4s - loss: 2.5145 - acc: 0.8418 - val_loss: 3.1660 - val_acc: 0.8018\n",
      "Epoch 100/100\n",
      "2624/2624 [==============================] - 4s - loss: 2.6621 - acc: 0.8335 - val_loss: 3.0289 - val_acc: 0.8095\n",
      "storing weights...\n"
     ]
    }
   ],
   "source": [
    "full_model_json = 'serialized_objects/0804/model_object.json'\n",
    "weights_path = 'serialized_objects/0804/model_weights.hd5'\n",
    "epochs = 100\n",
    "\n",
    "\n",
    "model_history = pt.train_top_model(full_model_json, weights_path, output_train, output_val, labels, epochs=epochs)"
   ]
  },
  {
   "cell_type": "code",
   "execution_count": 10,
   "metadata": {
    "collapsed": false
   },
   "outputs": [
    {
     "name": "stdout",
     "output_type": "stream",
     "text": [
      "['acc', 'loss', 'val_acc', 'val_loss']\n"
     ]
    },
    {
     "data": {
      "image/png": "[encoded data removed]",
      "text/plain": [
       "<matplotlib.figure.Figure at 0x123e63750>"
      ]
     },
     "metadata": {},
     "output_type": "display_data"
    },
    {
     "data": {
      "image/png": "[encoded data removed]",
      "text/plain": [
       "<matplotlib.figure.Figure at 0x1271afed0>"
      ]
     },
     "metadata": {},
     "output_type": "display_data"
    }
   ],
   "source": [
    "plot_history(model_history)"
   ]
  },
  {
   "cell_type": "markdown",
   "metadata": {
    "collapsed": true
   },
   "source": [
    "## Healthy vs CMD"
   ]
  },
  {
   "cell_type": "code",
   "execution_count": 3,
   "metadata": {
    "collapsed": true
   },
   "outputs": [],
   "source": [
    "label_dict2 = {1: healthy_images, 0: cmd_files}"
   ]
  },
  {
   "cell_type": "code",
   "execution_count": 4,
   "metadata": {
    "collapsed": false
   },
   "outputs": [
    {
     "name": "stdout",
     "output_type": "stream",
     "text": [
      "Found 3012 examples with label 0\n",
      "Found 1540 examples with label 1\n"
     ]
    },
    {
     "data": {
      "text/plain": [
       "Counter({(0.0, 1.0): 1540, (1.0, 0.0): 3012})"
      ]
     },
     "execution_count": 4,
     "metadata": {},
     "output_type": "execute_result"
    }
   ],
   "source": [
    "paths_HCMD, labels_HCMD = utils.get_paths_labels(label_dict2)\n",
    "Counter([tuple(l) for l in labels_HCMD])"
   ]
  },
  {
   "cell_type": "code",
   "execution_count": 5,
   "metadata": {
    "collapsed": false
   },
   "outputs": [
    {
     "name": "stdout",
     "output_type": "stream",
     "text": [
      "Found 3012 examples with label 0\n",
      "Found 1540 examples with label 1\n",
      "partitioning data with train size 3641 and test size 910\n"
     ]
    }
   ],
   "source": [
    "batch_size = 16\n",
    "target_size = (150, 150)\n",
    "\n",
    "itrain_HCMD = it.ImageTraining(label_dict2)\n",
    "traingen_HCMD, testgen_HCMD = itrain_HCMD.get_train_test_generators(batch_size=batch_size, target_size=target_size)"
   ]
  },
  {
   "cell_type": "code",
   "execution_count": 6,
   "metadata": {
    "collapsed": true
   },
   "outputs": [],
   "source": [
    "channels = 3\n",
    "h,w = target_size\n",
    "class_count = len(label_dict2.keys())\n",
    "\n",
    "# model_HCMD = CNN_models.get_multiclass_CNN(class_count=class_count, input_shape=(h,w,channels))"
   ]
  },
  {
   "cell_type": "code",
   "execution_count": 7,
   "metadata": {
    "collapsed": false,
    "scrolled": true
   },
   "outputs": [
    {
     "name": "stdout",
     "output_type": "stream",
     "text": [
      "loading vgg model...\n",
      "image target size (150, 150) with batch size 16\n",
      "running training examples through top model...\n",
      "running model with 227 training batches and 3632 total samples\n",
      "training labels shape: (3632, 2)\n",
      "final shape of bottleneck_features_train: (3632, 4, 4, 512)\n",
      "running validation examples through top model...\n",
      "running model with 56 validation batches of data\n",
      "final shape of bottleneck_features_validation: (896, 4, 4, 512)\n"
     ]
    }
   ],
   "source": [
    "output_train = 'serialized_objects/0808/outputtrain_HCMD.npy'\n",
    "output_val = 'serialized_objects/0808/outputval_HCMD.npy'\n",
    "labels = 'serialized_objects/0804/labels_HCMD.p'\n",
    "train_batches = None\n",
    "val_batches = None\n",
    "\n",
    "pt.get_output_values(traingen_HCMD, testgen_HCMD, output_train, output_val,\n",
    "                     labels, train_batches=train_batches, val_batches=val_batches)"
   ]
  },
  {
   "cell_type": "code",
   "execution_count": 8,
   "metadata": {
    "collapsed": false
   },
   "outputs": [
    {
     "name": "stdout",
     "output_type": "stream",
     "text": [
      "train top model\n",
      "loaded 3632 training labels and 896 validation labels.\n",
      "loading bottleneck_trian_npy...\n",
      "loaded 3632 training data samples\n",
      "loading bottleneck_val_npy...\n",
      "loaded 896 validation data samples\n",
      "fitting model...\n",
      "Train on 3632 samples, validate on 896 samples\n",
      "Epoch 1/100\n",
      "3632/3632 [==============================] - 7s - loss: 5.4887 - acc: 0.6589 - val_loss: 5.3247 - val_acc: 0.6696\n",
      "Epoch 2/100\n",
      "3632/3632 [==============================] - 6s - loss: 5.4631 - acc: 0.6611 - val_loss: 5.3247 - val_acc: 0.6696\n",
      "Epoch 3/100\n",
      "3632/3632 [==============================] - 6s - loss: 5.4629 - acc: 0.6611 - val_loss: 5.3247 - val_acc: 0.6696\n",
      "Epoch 4/100\n",
      "3632/3632 [==============================] - 6s - loss: 5.4629 - acc: 0.6611 - val_loss: 5.3247 - val_acc: 0.6696\n",
      "Epoch 5/100\n",
      "3632/3632 [==============================] - 6s - loss: 4.5017 - acc: 0.7139 - val_loss: 2.8815 - val_acc: 0.8125\n",
      "Epoch 6/100\n",
      "3632/3632 [==============================] - 6s - loss: 2.8990 - acc: 0.8125 - val_loss: 3.3280 - val_acc: 0.7835\n",
      "Epoch 7/100\n",
      "3632/3632 [==============================] - 6s - loss: 2.9453 - acc: 0.8114 - val_loss: 2.9824 - val_acc: 0.8080\n",
      "Epoch 8/100\n",
      "3632/3632 [==============================] - 6s - loss: 2.4915 - acc: 0.8409 - val_loss: 2.8791 - val_acc: 0.8181\n",
      "Epoch 9/100\n",
      "3632/3632 [==============================] - 7s - loss: 2.5420 - acc: 0.8392 - val_loss: 2.6723 - val_acc: 0.8304\n",
      "Epoch 10/100\n",
      "3632/3632 [==============================] - 7s - loss: 2.4281 - acc: 0.8461 - val_loss: 2.5709 - val_acc: 0.8382\n",
      "Epoch 11/100\n",
      "3632/3632 [==============================] - 6s - loss: 2.2867 - acc: 0.8541 - val_loss: 2.5550 - val_acc: 0.8382\n",
      "Epoch 12/100\n",
      "3632/3632 [==============================] - 6s - loss: 2.2644 - acc: 0.8579 - val_loss: 2.6389 - val_acc: 0.8337\n",
      "Epoch 13/100\n",
      "3632/3632 [==============================] - 6s - loss: 2.3665 - acc: 0.8497 - val_loss: 2.6908 - val_acc: 0.8304\n",
      "Epoch 14/100\n",
      "3632/3632 [==============================] - 6s - loss: 2.2173 - acc: 0.8607 - val_loss: 2.6789 - val_acc: 0.8326\n",
      "Epoch 15/100\n",
      "3632/3632 [==============================] - 7s - loss: 2.3161 - acc: 0.8541 - val_loss: 2.6805 - val_acc: 0.8292\n",
      "Epoch 16/100\n",
      "3632/3632 [==============================] - 6s - loss: 2.2517 - acc: 0.8579 - val_loss: 2.7972 - val_acc: 0.8237\n",
      "Epoch 17/100\n",
      "3632/3632 [==============================] - 6s - loss: 2.2063 - acc: 0.8612 - val_loss: 2.4921 - val_acc: 0.8393\n",
      "Epoch 18/100\n",
      "3632/3632 [==============================] - 6s - loss: 2.0783 - acc: 0.8689 - val_loss: 2.8008 - val_acc: 0.8214\n",
      "Epoch 19/100\n",
      "3632/3632 [==============================] - 6s - loss: 2.1468 - acc: 0.8656 - val_loss: 2.7326 - val_acc: 0.8292\n",
      "Epoch 20/100\n",
      "3632/3632 [==============================] - 6s - loss: 2.0516 - acc: 0.8706 - val_loss: 2.6822 - val_acc: 0.8326\n",
      "Epoch 21/100\n",
      "3632/3632 [==============================] - 7s - loss: 2.1048 - acc: 0.8673 - val_loss: 2.6845 - val_acc: 0.8292\n",
      "Epoch 22/100\n",
      "3632/3632 [==============================] - 7s - loss: 2.3806 - acc: 0.8499 - val_loss: 2.6972 - val_acc: 0.8315\n",
      "Epoch 23/100\n",
      "3632/3632 [==============================] - 7s - loss: 2.1497 - acc: 0.8629 - val_loss: 2.9749 - val_acc: 0.8103\n",
      "Epoch 24/100\n",
      "3632/3632 [==============================] - 7s - loss: 1.9790 - acc: 0.8747 - val_loss: 2.5694 - val_acc: 0.8393\n",
      "Epoch 25/100\n",
      "3632/3632 [==============================] - 7s - loss: 1.9840 - acc: 0.8744 - val_loss: 2.7272 - val_acc: 0.8281\n",
      "Epoch 26/100\n",
      "3632/3632 [==============================] - 7s - loss: 2.0123 - acc: 0.8733 - val_loss: 2.5812 - val_acc: 0.8382\n",
      "Epoch 27/100\n",
      "3632/3632 [==============================] - 7s - loss: 1.9737 - acc: 0.8753 - val_loss: 2.6360 - val_acc: 0.8337\n",
      "Epoch 28/100\n",
      "3632/3632 [==============================] - 7s - loss: 1.8779 - acc: 0.8816 - val_loss: 2.7276 - val_acc: 0.8292\n",
      "Epoch 29/100\n",
      "3632/3632 [==============================] - 7s - loss: 1.8196 - acc: 0.8863 - val_loss: 2.5338 - val_acc: 0.8426\n",
      "Epoch 30/100\n",
      "3632/3632 [==============================] - 7s - loss: 1.9318 - acc: 0.8786 - val_loss: 2.6337 - val_acc: 0.8348\n",
      "Epoch 31/100\n",
      "3632/3632 [==============================] - 7s - loss: 1.8852 - acc: 0.8811 - val_loss: 2.5214 - val_acc: 0.8415\n",
      "Epoch 32/100\n",
      "3632/3632 [==============================] - 7s - loss: 1.8729 - acc: 0.8827 - val_loss: 2.6649 - val_acc: 0.8304\n",
      "Epoch 33/100\n",
      "3632/3632 [==============================] - 7s - loss: 1.8809 - acc: 0.8811 - val_loss: 2.5556 - val_acc: 0.8393\n",
      "Epoch 34/100\n",
      "3632/3632 [==============================] - 7s - loss: 1.8821 - acc: 0.8816 - val_loss: 2.6084 - val_acc: 0.8382\n",
      "Epoch 35/100\n",
      "3632/3632 [==============================] - 7s - loss: 1.9616 - acc: 0.8769 - val_loss: 2.5879 - val_acc: 0.8359\n",
      "Epoch 36/100\n",
      "3632/3632 [==============================] - 6s - loss: 1.8674 - acc: 0.8824 - val_loss: 2.4629 - val_acc: 0.8438\n",
      "Epoch 37/100\n",
      "3632/3632 [==============================] - 7s - loss: 1.9705 - acc: 0.8761 - val_loss: 2.5673 - val_acc: 0.8382\n",
      "Epoch 38/100\n",
      "3632/3632 [==============================] - 6s - loss: 1.8693 - acc: 0.8827 - val_loss: 2.7959 - val_acc: 0.8259\n",
      "Epoch 39/100\n",
      "3632/3632 [==============================] - 6s - loss: 1.7687 - acc: 0.8885 - val_loss: 2.5978 - val_acc: 0.8371\n",
      "Epoch 40/100\n",
      "3632/3632 [==============================] - 6s - loss: 2.0362 - acc: 0.8720 - val_loss: 2.7192 - val_acc: 0.8292\n",
      "Epoch 41/100\n",
      "3632/3632 [==============================] - 6s - loss: 1.9170 - acc: 0.8794 - val_loss: 2.5384 - val_acc: 0.8415\n",
      "Epoch 42/100\n",
      "3632/3632 [==============================] - 6s - loss: 2.0199 - acc: 0.8733 - val_loss: 2.5917 - val_acc: 0.8348\n",
      "Epoch 43/100\n",
      "3632/3632 [==============================] - 6s - loss: 1.8200 - acc: 0.8855 - val_loss: 2.4886 - val_acc: 0.8449\n",
      "Epoch 44/100\n",
      "3632/3632 [==============================] - 7s - loss: 1.7639 - acc: 0.8893 - val_loss: 2.5538 - val_acc: 0.8393\n",
      "Epoch 45/100\n",
      "3632/3632 [==============================] - 6s - loss: 1.8063 - acc: 0.8866 - val_loss: 2.5349 - val_acc: 0.8415\n",
      "Epoch 46/100\n",
      "3632/3632 [==============================] - 6s - loss: 1.6996 - acc: 0.8934 - val_loss: 2.4904 - val_acc: 0.8426\n",
      "Epoch 47/100\n",
      "3632/3632 [==============================] - 6s - loss: 1.6861 - acc: 0.8940 - val_loss: 2.5918 - val_acc: 0.8382\n",
      "Epoch 48/100\n",
      "3632/3632 [==============================] - 6s - loss: 1.7188 - acc: 0.8926 - val_loss: 2.5413 - val_acc: 0.8404\n",
      "Epoch 49/100\n",
      "3632/3632 [==============================] - 7s - loss: 1.6663 - acc: 0.8956 - val_loss: 2.6399 - val_acc: 0.8337\n",
      "Epoch 50/100\n",
      "3632/3632 [==============================] - 6s - loss: 1.7169 - acc: 0.8923 - val_loss: 2.6444 - val_acc: 0.8359\n",
      "Epoch 51/100\n",
      "3632/3632 [==============================] - 6s - loss: 1.9290 - acc: 0.8786 - val_loss: 2.5782 - val_acc: 0.8359\n",
      "Epoch 52/100\n",
      "3632/3632 [==============================] - 8s - loss: 1.8242 - acc: 0.8855 - val_loss: 2.6312 - val_acc: 0.8337\n",
      "Epoch 53/100\n",
      "3632/3632 [==============================] - 6s - loss: 1.7407 - acc: 0.8907 - val_loss: 2.5664 - val_acc: 0.8393\n",
      "Epoch 54/100\n",
      "3632/3632 [==============================] - 7s - loss: 1.6786 - acc: 0.8945 - val_loss: 2.5678 - val_acc: 0.8382\n",
      "Epoch 55/100\n",
      "3632/3632 [==============================] - 7s - loss: 1.7120 - acc: 0.8918 - val_loss: 2.6091 - val_acc: 0.8382\n",
      "Epoch 56/100\n",
      "3632/3632 [==============================] - 7s - loss: 1.6229 - acc: 0.8987 - val_loss: 2.6667 - val_acc: 0.8326\n",
      "Epoch 57/100\n",
      "3632/3632 [==============================] - 7s - loss: 1.7330 - acc: 0.8915 - val_loss: 2.7426 - val_acc: 0.8259\n",
      "Epoch 58/100\n",
      "3632/3632 [==============================] - 8s - loss: 1.7074 - acc: 0.8932 - val_loss: 2.5025 - val_acc: 0.8438\n",
      "Epoch 59/100\n",
      "3632/3632 [==============================] - 8s - loss: 1.7574 - acc: 0.8890 - val_loss: 2.5745 - val_acc: 0.8393\n",
      "Epoch 60/100\n",
      "3632/3632 [==============================] - 6s - loss: 1.6065 - acc: 0.8984 - val_loss: 2.4993 - val_acc: 0.8438\n",
      "Epoch 61/100\n",
      "3632/3632 [==============================] - 6s - loss: 1.6773 - acc: 0.8937 - val_loss: 2.5289 - val_acc: 0.8404\n",
      "Epoch 62/100\n",
      "3632/3632 [==============================] - 6s - loss: 1.7928 - acc: 0.8879 - val_loss: 2.5995 - val_acc: 0.8359\n",
      "Epoch 63/100\n",
      "3632/3632 [==============================] - 6s - loss: 1.7248 - acc: 0.8921 - val_loss: 2.6995 - val_acc: 0.8315\n",
      "Epoch 64/100\n",
      "3632/3632 [==============================] - 6s - loss: 1.6545 - acc: 0.8962 - val_loss: 2.4355 - val_acc: 0.8471\n",
      "Epoch 65/100\n",
      "3632/3632 [==============================] - 6s - loss: 1.6232 - acc: 0.8976 - val_loss: 2.5040 - val_acc: 0.8415\n",
      "Epoch 66/100\n",
      "3632/3632 [==============================] - 6s - loss: 1.5979 - acc: 0.8992 - val_loss: 2.6446 - val_acc: 0.8348\n",
      "Epoch 67/100\n",
      "3632/3632 [==============================] - 7s - loss: 1.6346 - acc: 0.8979 - val_loss: 2.6193 - val_acc: 0.8371\n",
      "Epoch 68/100\n",
      "3632/3632 [==============================] - 7s - loss: 1.6537 - acc: 0.8968 - val_loss: 2.4711 - val_acc: 0.8460\n",
      "Epoch 69/100\n",
      "3632/3632 [==============================] - 6s - loss: 1.5410 - acc: 0.9034 - val_loss: 2.4852 - val_acc: 0.8438\n",
      "Epoch 70/100\n",
      "3632/3632 [==============================] - 6s - loss: 1.5615 - acc: 0.9025 - val_loss: 2.5928 - val_acc: 0.8382\n",
      "Epoch 71/100\n",
      "3632/3632 [==============================] - 6s - loss: 1.5670 - acc: 0.9014 - val_loss: 2.5927 - val_acc: 0.8382\n",
      "Epoch 72/100\n",
      "3632/3632 [==============================] - 6s - loss: 1.7022 - acc: 0.8926 - val_loss: 2.5807 - val_acc: 0.8382\n",
      "Epoch 73/100\n",
      "3632/3632 [==============================] - 6s - loss: 1.5903 - acc: 0.9012 - val_loss: 2.4104 - val_acc: 0.8493\n",
      "Epoch 74/100\n",
      "3632/3632 [==============================] - 6s - loss: 1.5439 - acc: 0.9028 - val_loss: 2.4597 - val_acc: 0.8449\n",
      "Epoch 75/100\n",
      "3632/3632 [==============================] - 6s - loss: 1.5515 - acc: 0.9031 - val_loss: 2.4848 - val_acc: 0.8449\n",
      "Epoch 76/100\n",
      "3632/3632 [==============================] - 6s - loss: 1.5436 - acc: 0.9039 - val_loss: 2.6034 - val_acc: 0.8371\n",
      "Epoch 77/100\n",
      "3632/3632 [==============================] - 6s - loss: 1.4984 - acc: 0.9058 - val_loss: 2.4937 - val_acc: 0.8438\n",
      "Epoch 78/100\n",
      "3632/3632 [==============================] - 6s - loss: 1.4929 - acc: 0.9067 - val_loss: 2.4506 - val_acc: 0.8460\n",
      "Epoch 79/100\n",
      "3632/3632 [==============================] - 7s - loss: 1.4533 - acc: 0.9086 - val_loss: 2.5395 - val_acc: 0.8404\n",
      "Epoch 80/100\n",
      "3632/3632 [==============================] - 6s - loss: 1.6173 - acc: 0.8981 - val_loss: 2.5268 - val_acc: 0.8426\n",
      "Epoch 81/100\n",
      "3632/3632 [==============================] - 6s - loss: 1.4538 - acc: 0.9094 - val_loss: 2.6613 - val_acc: 0.8326\n",
      "Epoch 82/100\n",
      "3632/3632 [==============================] - 6s - loss: 1.5242 - acc: 0.9047 - val_loss: 2.5823 - val_acc: 0.8382\n",
      "Epoch 83/100\n",
      "3632/3632 [==============================] - 6s - loss: 1.5707 - acc: 0.9017 - val_loss: 3.0707 - val_acc: 0.8069\n",
      "Epoch 84/100\n",
      "3632/3632 [==============================] - 6s - loss: 1.5787 - acc: 0.9014 - val_loss: 2.6699 - val_acc: 0.8337\n",
      "Epoch 85/100\n",
      "3632/3632 [==============================] - 6s - loss: 1.5234 - acc: 0.9045 - val_loss: 2.5891 - val_acc: 0.8393\n",
      "Epoch 86/100\n",
      "3632/3632 [==============================] - 6s - loss: 1.6232 - acc: 0.8984 - val_loss: 2.4975 - val_acc: 0.8426\n",
      "Epoch 87/100\n",
      "3632/3632 [==============================] - 7s - loss: 1.4341 - acc: 0.9097 - val_loss: 2.6352 - val_acc: 0.8359\n",
      "Epoch 88/100\n",
      "3632/3632 [==============================] - 7s - loss: 1.4163 - acc: 0.9111 - val_loss: 2.4958 - val_acc: 0.8438\n",
      "Epoch 89/100\n",
      "3632/3632 [==============================] - 7s - loss: 1.5724 - acc: 0.9012 - val_loss: 2.4812 - val_acc: 0.8460\n",
      "Epoch 90/100\n",
      "3632/3632 [==============================] - 7s - loss: 1.4849 - acc: 0.9064 - val_loss: 2.4557 - val_acc: 0.8460\n",
      "Epoch 91/100\n",
      "3632/3632 [==============================] - 7s - loss: 1.4329 - acc: 0.9100 - val_loss: 2.5087 - val_acc: 0.8426\n",
      "Epoch 92/100\n",
      "3632/3632 [==============================] - 6s - loss: 1.4232 - acc: 0.9108 - val_loss: 2.5039 - val_acc: 0.8426\n",
      "Epoch 93/100\n",
      "3632/3632 [==============================] - 6s - loss: 1.5366 - acc: 0.9039 - val_loss: 2.5344 - val_acc: 0.8393\n",
      "Epoch 94/100\n",
      "3632/3632 [==============================] - 7s - loss: 1.5450 - acc: 0.9031 - val_loss: 2.5533 - val_acc: 0.8404\n",
      "Epoch 95/100\n",
      "3632/3632 [==============================] - 6s - loss: 1.5248 - acc: 0.9045 - val_loss: 3.0164 - val_acc: 0.8092\n",
      "Epoch 96/100\n",
      "3632/3632 [==============================] - 6s - loss: 1.7793 - acc: 0.8888 - val_loss: 2.5059 - val_acc: 0.8426\n",
      "Epoch 97/100\n",
      "3632/3632 [==============================] - 6s - loss: 1.4724 - acc: 0.9072 - val_loss: 2.4936 - val_acc: 0.8426\n",
      "Epoch 98/100\n",
      "3632/3632 [==============================] - 6s - loss: 1.5428 - acc: 0.9039 - val_loss: 2.6968 - val_acc: 0.8304\n",
      "Epoch 99/100\n",
      "3632/3632 [==============================] - 8s - loss: 1.3963 - acc: 0.9124 - val_loss: 2.6344 - val_acc: 0.8359\n",
      "Epoch 100/100\n",
      "3632/3632 [==============================] - 6s - loss: 1.4912 - acc: 0.9064 - val_loss: 2.5175 - val_acc: 0.8438\n",
      "storing weights...\n"
     ]
    }
   ],
   "source": [
    "full_model_json = 'serialized_objects/0808/model_object_HCMD.json'\n",
    "weights_path = 'serialized_objects/0808/model_weights_HCMD.hd5'\n",
    "epochs = 100\n",
    "\n",
    "\n",
    "model_history = pt.train_top_model(full_model_json, weights_path, output_train, output_val, labels, epochs=epochs)"
   ]
  },
  {
   "cell_type": "code",
   "execution_count": 10,
   "metadata": {
    "collapsed": false
   },
   "outputs": [
    {
     "name": "stdout",
     "output_type": "stream",
     "text": [
      "['acc', 'loss', 'val_acc', 'val_loss']\n"
     ]
    },
    {
     "data": {
      "image/png": "[encoded data removed]",
      "text/plain": [
       "<matplotlib.figure.Figure at 0x123acf090>"
      ]
     },
     "metadata": {},
     "output_type": "display_data"
    },
    {
     "data": {
      "image/png": "[encoded data removed]",
      "text/plain": [
       "<matplotlib.figure.Figure at 0x123d5bd10>"
      ]
     },
     "metadata": {},
     "output_type": "display_data"
    }
   ],
   "source": [
    "mplot.plot_history(model_history)"
   ]
  },
  {
   "cell_type": "markdown",
   "metadata": {},
   "source": [
    "## Healthy vs CGM"
   ]
  },
  {
   "cell_type": "code",
   "execution_count": 11,
   "metadata": {
    "collapsed": false
   },
   "outputs": [
    {
     "name": "stdout",
     "output_type": "stream",
     "text": [
      "Found 722 examples with label 0\n",
      "Found 1540 examples with label 1\n"
     ]
    },
    {
     "data": {
      "text/plain": [
       "Counter({(0.0, 1.0): 1540, (1.0, 0.0): 722})"
      ]
     },
     "execution_count": 11,
     "metadata": {},
     "output_type": "execute_result"
    }
   ],
   "source": [
    "label_dict3 = {1: healthy_images, 0: cgm_files}\n",
    "paths_HCGM, labels_HCGM = utils.get_paths_labels(label_dict3)\n",
    "Counter([tuple(l) for l in labels_HCGM])"
   ]
  },
  {
   "cell_type": "code",
   "execution_count": 12,
   "metadata": {
    "collapsed": false
   },
   "outputs": [
    {
     "name": "stdout",
     "output_type": "stream",
     "text": [
      "Found 722 examples with label 0\n",
      "Found 1540 examples with label 1\n",
      "partitioning data with train size 1809 and test size 452\n"
     ]
    }
   ],
   "source": [
    "batch_size = 16\n",
    "target_size = (150, 150)\n",
    "\n",
    "itrain_HCGM = it.ImageTraining(label_dict3)\n",
    "traingen_HCGM, testgen_HCGM = itrain_HCGM.get_train_test_generators(batch_size=batch_size, target_size=target_size)"
   ]
  },
  {
   "cell_type": "code",
   "execution_count": 13,
   "metadata": {
    "collapsed": true
   },
   "outputs": [],
   "source": [
    "channels = 3\n",
    "h,w = target_size\n",
    "class_count = len(label_dict3.keys())"
   ]
  },
  {
   "cell_type": "code",
   "execution_count": 14,
   "metadata": {
    "collapsed": false
   },
   "outputs": [
    {
     "name": "stdout",
     "output_type": "stream",
     "text": [
      "loading vgg model...\n",
      "image target size (150, 150) with batch size 16\n",
      "running training examples through top model...\n",
      "running model with 113 training batches and 1808 total samples\n",
      "training labels shape: (1808, 2)\n",
      "final shape of bottleneck_features_train: (1808, 4, 4, 512)\n",
      "running validation examples through top model...\n",
      "running model with 28 validation batches of data\n",
      "final shape of bottleneck_features_validation: (448, 4, 4, 512)\n"
     ]
    }
   ],
   "source": [
    "output_train = 'serialized_objects/0808/outputtrain_HCGM.npy'\n",
    "output_val = 'serialized_objects/0808/outputval_HCGM.npy'\n",
    "labels = 'serialized_objects/0804/labels_HCGM.p'\n",
    "\n",
    "\n",
    "pt.get_output_values(traingen_HCGM, testgen_HCGM, output_train, output_val, labels)"
   ]
  },
  {
   "cell_type": "code",
   "execution_count": 17,
   "metadata": {
    "collapsed": false
   },
   "outputs": [
    {
     "name": "stdout",
     "output_type": "stream",
     "text": [
      "train top model\n",
      "loaded 1808 training labels and 448 validation labels.\n",
      "loading bottleneck_trian_npy...\n",
      "loaded 1808 training data samples\n",
      "loading bottleneck_val_npy...\n",
      "loaded 448 validation data samples\n",
      "fitting model...\n",
      "Train on 1808 samples, validate on 448 samples\n",
      "Epoch 1/100\n",
      "1808/1808 [==============================] - 4s - loss: 5.1100 - acc: 0.6814 - val_loss: 5.4686 - val_acc: 0.6607\n",
      "Epoch 2/100\n",
      "1808/1808 [==============================] - 3s - loss: 5.0547 - acc: 0.6864 - val_loss: 5.4686 - val_acc: 0.6607\n",
      "Epoch 3/100\n",
      "1808/1808 [==============================] - 3s - loss: 5.0547 - acc: 0.6864 - val_loss: 5.4686 - val_acc: 0.6607\n",
      "Epoch 4/100\n",
      "1808/1808 [==============================] - 3s - loss: 5.0547 - acc: 0.6864 - val_loss: 5.4686 - val_acc: 0.6607\n",
      "Epoch 5/100\n",
      "1808/1808 [==============================] - 3s - loss: 5.0547 - acc: 0.6864 - val_loss: 5.4686 - val_acc: 0.6607\n",
      "Epoch 6/100\n",
      "1808/1808 [==============================] - 3s - loss: 5.0547 - acc: 0.6864 - val_loss: 5.4686 - val_acc: 0.6607\n",
      "Epoch 7/100\n",
      "1808/1808 [==============================] - 3s - loss: 5.0018 - acc: 0.6875 - val_loss: 5.4686 - val_acc: 0.6607\n",
      "Epoch 8/100\n",
      "1808/1808 [==============================] - 3s - loss: 5.0580 - acc: 0.6858 - val_loss: 5.4686 - val_acc: 0.6607\n",
      "Epoch 9/100\n",
      "1808/1808 [==============================] - 3s - loss: 5.0704 - acc: 0.6847 - val_loss: 5.4686 - val_acc: 0.6607\n",
      "Epoch 10/100\n",
      "1808/1808 [==============================] - 3s - loss: 5.0378 - acc: 0.6869 - val_loss: 5.4686 - val_acc: 0.6607\n",
      "Epoch 11/100\n",
      "1808/1808 [==============================] - 3s - loss: 5.0458 - acc: 0.6869 - val_loss: 5.4686 - val_acc: 0.6607\n",
      "Epoch 12/100\n",
      "1808/1808 [==============================] - 3s - loss: 5.0369 - acc: 0.6875 - val_loss: 5.4686 - val_acc: 0.6607\n",
      "Epoch 13/100\n",
      "1808/1808 [==============================] - 4s - loss: 5.0458 - acc: 0.6869 - val_loss: 5.4686 - val_acc: 0.6607\n",
      "Epoch 14/100\n",
      "1808/1808 [==============================] - 3s - loss: 5.0458 - acc: 0.6869 - val_loss: 5.4686 - val_acc: 0.6607\n",
      "Epoch 15/100\n",
      "1808/1808 [==============================] - 3s - loss: 5.0401 - acc: 0.6869 - val_loss: 5.4686 - val_acc: 0.6607\n",
      "Epoch 16/100\n",
      "1808/1808 [==============================] - 3s - loss: 5.0369 - acc: 0.6875 - val_loss: 5.4686 - val_acc: 0.6607\n",
      "Epoch 17/100\n",
      "1808/1808 [==============================] - 3s - loss: 5.0369 - acc: 0.6875 - val_loss: 5.4686 - val_acc: 0.6607\n",
      "Epoch 18/100\n",
      "1808/1808 [==============================] - 3s - loss: 5.0369 - acc: 0.6875 - val_loss: 5.4686 - val_acc: 0.6607\n",
      "Epoch 19/100\n",
      "1808/1808 [==============================] - 3s - loss: 5.0101 - acc: 0.6892 - val_loss: 5.4686 - val_acc: 0.6607\n",
      "Epoch 20/100\n",
      "1808/1808 [==============================] - 3s - loss: 5.0278 - acc: 0.6875 - val_loss: 5.4686 - val_acc: 0.6607\n",
      "Epoch 21/100\n",
      "1808/1808 [==============================] - 3s - loss: 5.0014 - acc: 0.6897 - val_loss: 5.4686 - val_acc: 0.6607\n",
      "Epoch 22/100\n",
      "1808/1808 [==============================] - 4s - loss: 4.9492 - acc: 0.6897 - val_loss: 5.1236 - val_acc: 0.6786\n",
      "Epoch 23/100\n",
      "1808/1808 [==============================] - 3s - loss: 4.9753 - acc: 0.6903 - val_loss: 5.4686 - val_acc: 0.6607\n",
      "Epoch 24/100\n",
      "1808/1808 [==============================] - 3s - loss: 4.7930 - acc: 0.6947 - val_loss: 4.4379 - val_acc: 0.7098\n",
      "Epoch 25/100\n",
      "1808/1808 [==============================] - 3s - loss: 4.9256 - acc: 0.6831 - val_loss: 4.3277 - val_acc: 0.7254\n",
      "Epoch 26/100\n",
      "1808/1808 [==============================] - 3s - loss: 4.4237 - acc: 0.7168 - val_loss: 4.5559 - val_acc: 0.7054\n",
      "Epoch 27/100\n",
      "1808/1808 [==============================] - 3s - loss: 4.1930 - acc: 0.7345 - val_loss: 4.6559 - val_acc: 0.7076\n",
      "Epoch 28/100\n",
      "1808/1808 [==============================] - 3s - loss: 4.0203 - acc: 0.7406 - val_loss: 5.9505 - val_acc: 0.6228\n",
      "Epoch 29/100\n",
      "1808/1808 [==============================] - 3s - loss: 4.4307 - acc: 0.7179 - val_loss: 4.3516 - val_acc: 0.7165\n",
      "Epoch 30/100\n",
      "1808/1808 [==============================] - 4s - loss: 4.0214 - acc: 0.7445 - val_loss: 4.4741 - val_acc: 0.7165\n",
      "Epoch 31/100\n",
      "1808/1808 [==============================] - 3s - loss: 3.7333 - acc: 0.7622 - val_loss: 4.5037 - val_acc: 0.7121\n",
      "Epoch 32/100\n",
      "1808/1808 [==============================] - 3s - loss: 3.7139 - acc: 0.7638 - val_loss: 4.3140 - val_acc: 0.7277\n",
      "Epoch 33/100\n",
      "1808/1808 [==============================] - 3s - loss: 3.6980 - acc: 0.7671 - val_loss: 4.7952 - val_acc: 0.7009\n",
      "Epoch 34/100\n",
      "1808/1808 [==============================] - 3s - loss: 3.8773 - acc: 0.7522 - val_loss: 4.2342 - val_acc: 0.7344\n",
      "Epoch 35/100\n",
      "1808/1808 [==============================] - 3s - loss: 3.7408 - acc: 0.7644 - val_loss: 3.7968 - val_acc: 0.7567\n",
      "Epoch 36/100\n",
      "1808/1808 [==============================] - 3s - loss: 3.6189 - acc: 0.7721 - val_loss: 3.8961 - val_acc: 0.7478\n",
      "Epoch 37/100\n",
      "1808/1808 [==============================] - 3s - loss: 3.7203 - acc: 0.7638 - val_loss: 4.1258 - val_acc: 0.7366\n",
      "Epoch 38/100\n",
      "1808/1808 [==============================] - 3s - loss: 3.8058 - acc: 0.7600 - val_loss: 4.2290 - val_acc: 0.7344\n",
      "Epoch 39/100\n",
      "1808/1808 [==============================] - 3s - loss: 3.7913 - acc: 0.7572 - val_loss: 3.9917 - val_acc: 0.7500\n",
      "Epoch 40/100\n",
      "1808/1808 [==============================] - 3s - loss: 3.4690 - acc: 0.7810 - val_loss: 4.3081 - val_acc: 0.7299\n",
      "Epoch 41/100\n",
      "1808/1808 [==============================] - 3s - loss: 3.5652 - acc: 0.7710 - val_loss: 3.7425 - val_acc: 0.7589\n",
      "Epoch 42/100\n",
      "1808/1808 [==============================] - 3s - loss: 3.2346 - acc: 0.7931 - val_loss: 4.0542 - val_acc: 0.7455\n",
      "Epoch 43/100\n",
      "1808/1808 [==============================] - 3s - loss: 3.4003 - acc: 0.7860 - val_loss: 3.6601 - val_acc: 0.7679\n",
      "Epoch 44/100\n",
      "1808/1808 [==============================] - 3s - loss: 3.2046 - acc: 0.7981 - val_loss: 3.7935 - val_acc: 0.7634\n",
      "Epoch 45/100\n",
      "1808/1808 [==============================] - 3s - loss: 3.1940 - acc: 0.7976 - val_loss: 3.9460 - val_acc: 0.7500\n",
      "Epoch 46/100\n",
      "1808/1808 [==============================] - 3s - loss: 3.1487 - acc: 0.8009 - val_loss: 3.7834 - val_acc: 0.7634\n",
      "Epoch 47/100\n",
      "1808/1808 [==============================] - 3s - loss: 3.3055 - acc: 0.7893 - val_loss: 4.2509 - val_acc: 0.7344\n",
      "Epoch 48/100\n",
      "1808/1808 [==============================] - 3s - loss: 3.3854 - acc: 0.7871 - val_loss: 3.6074 - val_acc: 0.7723\n",
      "Epoch 49/100\n",
      "1808/1808 [==============================] - 3s - loss: 3.2079 - acc: 0.7992 - val_loss: 3.8562 - val_acc: 0.7545\n",
      "Epoch 50/100\n",
      "1808/1808 [==============================] - 3s - loss: 3.1740 - acc: 0.7992 - val_loss: 4.0594 - val_acc: 0.7478\n",
      "Epoch 51/100\n",
      "1808/1808 [==============================] - 3s - loss: 3.1782 - acc: 0.7981 - val_loss: 4.5692 - val_acc: 0.7165\n",
      "Epoch 52/100\n",
      "1808/1808 [==============================] - 3s - loss: 3.8538 - acc: 0.7583 - val_loss: 4.3130 - val_acc: 0.7321\n",
      "Epoch 53/100\n",
      "1808/1808 [==============================] - 3s - loss: 3.5541 - acc: 0.7760 - val_loss: 4.1314 - val_acc: 0.7433\n",
      "Epoch 54/100\n",
      "1808/1808 [==============================] - 3s - loss: 3.2072 - acc: 0.7998 - val_loss: 4.0669 - val_acc: 0.7478\n",
      "Epoch 55/100\n",
      "1808/1808 [==============================] - 3s - loss: 3.1116 - acc: 0.8053 - val_loss: 4.2981 - val_acc: 0.7254\n",
      "Epoch 56/100\n",
      "1808/1808 [==============================] - 3s - loss: 3.2579 - acc: 0.7942 - val_loss: 3.5755 - val_acc: 0.7723\n",
      "Epoch 57/100\n",
      "1808/1808 [==============================] - 3s - loss: 3.1431 - acc: 0.8020 - val_loss: 3.5361 - val_acc: 0.7701\n",
      "Epoch 58/100\n",
      "1808/1808 [==============================] - 3s - loss: 3.5294 - acc: 0.7765 - val_loss: 3.6598 - val_acc: 0.7679\n",
      "Epoch 59/100\n",
      "1808/1808 [==============================] - 3s - loss: 3.0320 - acc: 0.8092 - val_loss: 3.7545 - val_acc: 0.7634\n",
      "Epoch 60/100\n",
      "1808/1808 [==============================] - 3s - loss: 3.1326 - acc: 0.8037 - val_loss: 3.8643 - val_acc: 0.7500\n",
      "Epoch 61/100\n",
      "1808/1808 [==============================] - 3s - loss: 3.2125 - acc: 0.7981 - val_loss: 3.8890 - val_acc: 0.7567\n",
      "Epoch 62/100\n",
      "1808/1808 [==============================] - 3s - loss: 3.2297 - acc: 0.7959 - val_loss: 4.3038 - val_acc: 0.7321\n",
      "Epoch 63/100\n",
      "1808/1808 [==============================] - 3s - loss: 3.1668 - acc: 0.8020 - val_loss: 3.4818 - val_acc: 0.7723\n",
      "Epoch 64/100\n",
      "1808/1808 [==============================] - 3s - loss: 3.0493 - acc: 0.8081 - val_loss: 3.2102 - val_acc: 0.7991\n",
      "Epoch 65/100\n",
      "1808/1808 [==============================] - 3s - loss: 3.1969 - acc: 0.7998 - val_loss: 4.0187 - val_acc: 0.7500\n",
      "Epoch 66/100\n",
      "1808/1808 [==============================] - 3s - loss: 3.3648 - acc: 0.7882 - val_loss: 5.8433 - val_acc: 0.6339\n",
      "Epoch 67/100\n",
      "1808/1808 [==============================] - 4s - loss: 3.7452 - acc: 0.7638 - val_loss: 3.5350 - val_acc: 0.7746\n",
      "Epoch 68/100\n",
      "1808/1808 [==============================] - 3s - loss: 3.0042 - acc: 0.8092 - val_loss: 3.4380 - val_acc: 0.7835\n",
      "Epoch 69/100\n",
      "1808/1808 [==============================] - 3s - loss: 2.8338 - acc: 0.8219 - val_loss: 4.0384 - val_acc: 0.7455\n",
      "Epoch 70/100\n",
      "1808/1808 [==============================] - 3s - loss: 3.0511 - acc: 0.8075 - val_loss: 3.5551 - val_acc: 0.7746\n",
      "Epoch 71/100\n",
      "1808/1808 [==============================] - 3s - loss: 3.1141 - acc: 0.8042 - val_loss: 4.4609 - val_acc: 0.7165\n",
      "Epoch 72/100\n",
      "1808/1808 [==============================] - 3s - loss: 3.2868 - acc: 0.7915 - val_loss: 3.4498 - val_acc: 0.7812\n",
      "Epoch 73/100\n",
      "1808/1808 [==============================] - 4s - loss: 2.9110 - acc: 0.8164 - val_loss: 3.6317 - val_acc: 0.7701\n",
      "Epoch 74/100\n",
      "1808/1808 [==============================] - 3s - loss: 2.7706 - acc: 0.8236 - val_loss: 3.6154 - val_acc: 0.7746\n",
      "Epoch 75/100\n",
      "1808/1808 [==============================] - 3s - loss: 2.8836 - acc: 0.8186 - val_loss: 3.6599 - val_acc: 0.7723\n",
      "Epoch 76/100\n",
      "1808/1808 [==============================] - 3s - loss: 2.7875 - acc: 0.8230 - val_loss: 3.4096 - val_acc: 0.7835\n",
      "Epoch 77/100\n",
      "1808/1808 [==============================] - 3s - loss: 2.7023 - acc: 0.8291 - val_loss: 3.5084 - val_acc: 0.7746\n",
      "Epoch 78/100\n",
      "1808/1808 [==============================] - 3s - loss: 2.9625 - acc: 0.8114 - val_loss: 3.6728 - val_acc: 0.7679\n",
      "Epoch 79/100\n",
      "1808/1808 [==============================] - 3s - loss: 2.7370 - acc: 0.8269 - val_loss: 3.9935 - val_acc: 0.7522\n",
      "Epoch 80/100\n",
      "1808/1808 [==============================] - 3s - loss: 2.6151 - acc: 0.8346 - val_loss: 3.4321 - val_acc: 0.7812\n",
      "Epoch 81/100\n",
      "1808/1808 [==============================] - 3s - loss: 2.9163 - acc: 0.8169 - val_loss: 3.6620 - val_acc: 0.7656\n",
      "Epoch 82/100\n",
      "1808/1808 [==============================] - 3s - loss: 2.8377 - acc: 0.8213 - val_loss: 3.4609 - val_acc: 0.7790\n",
      "Epoch 83/100\n",
      "1808/1808 [==============================] - 4s - loss: 2.6785 - acc: 0.8313 - val_loss: 3.4272 - val_acc: 0.7835\n",
      "Epoch 84/100\n",
      "1808/1808 [==============================] - 3s - loss: 2.6713 - acc: 0.8319 - val_loss: 3.8624 - val_acc: 0.7567\n",
      "Epoch 85/100\n",
      "1808/1808 [==============================] - 3s - loss: 2.8042 - acc: 0.8230 - val_loss: 3.8226 - val_acc: 0.7612\n",
      "Epoch 86/100\n",
      "1808/1808 [==============================] - 3s - loss: 2.8812 - acc: 0.8191 - val_loss: 3.6377 - val_acc: 0.7701\n",
      "Epoch 87/100\n",
      "1808/1808 [==============================] - 3s - loss: 2.7319 - acc: 0.8280 - val_loss: 4.5765 - val_acc: 0.7076\n",
      "Epoch 88/100\n",
      "1808/1808 [==============================] - 3s - loss: 2.9260 - acc: 0.8158 - val_loss: 3.2905 - val_acc: 0.7946\n",
      "Epoch 89/100\n",
      "1808/1808 [==============================] - 3s - loss: 2.6863 - acc: 0.8296 - val_loss: 4.5202 - val_acc: 0.7165\n",
      "Epoch 90/100\n",
      "1808/1808 [==============================] - 4s - loss: 2.7044 - acc: 0.8291 - val_loss: 3.7783 - val_acc: 0.7612\n",
      "Epoch 91/100\n",
      "1808/1808 [==============================] - 3s - loss: 2.6994 - acc: 0.8313 - val_loss: 3.4750 - val_acc: 0.7768\n",
      "Epoch 92/100\n",
      "1808/1808 [==============================] - 3s - loss: 2.6555 - acc: 0.8330 - val_loss: 3.5767 - val_acc: 0.7746\n",
      "Epoch 93/100\n",
      "1808/1808 [==============================] - 3s - loss: 2.9026 - acc: 0.8186 - val_loss: 3.7585 - val_acc: 0.7656\n",
      "Epoch 94/100\n",
      "1808/1808 [==============================] - 4s - loss: 2.8052 - acc: 0.8230 - val_loss: 3.4257 - val_acc: 0.7790\n",
      "Epoch 95/100\n",
      "1808/1808 [==============================] - 3s - loss: 2.7157 - acc: 0.8269 - val_loss: 3.5912 - val_acc: 0.7679\n",
      "Epoch 96/100\n",
      "1808/1808 [==============================] - 3s - loss: 2.6697 - acc: 0.8313 - val_loss: 3.7777 - val_acc: 0.7656\n",
      "Epoch 97/100\n",
      "1808/1808 [==============================] - 4s - loss: 3.0236 - acc: 0.8103 - val_loss: 3.6338 - val_acc: 0.7746\n",
      "Epoch 98/100\n",
      "1808/1808 [==============================] - 3s - loss: 2.5644 - acc: 0.8396 - val_loss: 3.7271 - val_acc: 0.7656\n",
      "Epoch 99/100\n",
      "1808/1808 [==============================] - 4s - loss: 2.7483 - acc: 0.8285 - val_loss: 3.8149 - val_acc: 0.7634\n",
      "Epoch 100/100\n",
      "1808/1808 [==============================] - 3s - loss: 2.8436 - acc: 0.8219 - val_loss: 4.3524 - val_acc: 0.7188\n",
      "storing weights...\n"
     ]
    }
   ],
   "source": [
    "full_model_json = 'serialized_objects/0808/model_object_HCGM.json'\n",
    "weights_path = 'serialized_objects/0808/model_weights_HCGM.hd5'\n",
    "epochs = 100\n",
    "\n",
    "\n",
    "model_history = pt.train_top_model(full_model_json, weights_path, output_train, output_val, labels, epochs=epochs)"
   ]
  },
  {
   "cell_type": "code",
   "execution_count": 18,
   "metadata": {
    "collapsed": false
   },
   "outputs": [
    {
     "name": "stdout",
     "output_type": "stream",
     "text": [
      "['acc', 'loss', 'val_acc', 'val_loss']\n"
     ]
    },
    {
     "data": {
      "image/png": "[encoded data removed]",
      "text/plain": [
       "<matplotlib.figure.Figure at 0x12a4ab250>"
      ]
     },
     "metadata": {},
     "output_type": "display_data"
    },
    {
     "data": {
      "image/png": "[encoded data removed]",
      "text/plain": [
       "<matplotlib.figure.Figure at 0x1271ed1d0>"
      ]
     },
     "metadata": {},
     "output_type": "display_data"
    }
   ],
   "source": [
    "mplot.plot_history(model_history)"
   ]
  },
  {
   "cell_type": "markdown",
   "metadata": {},
   "source": [
    "## Healthy vs CBB"
   ]
  },
  {
   "cell_type": "code",
   "execution_count": 3,
   "metadata": {
    "collapsed": false
   },
   "outputs": [
    {
     "name": "stdout",
     "output_type": "stream",
     "text": [
      "Found 425 examples with label 0\n",
      "Found 1540 examples with label 1\n"
     ]
    },
    {
     "data": {
      "text/plain": [
       "Counter({(0.0, 1.0): 1540, (1.0, 0.0): 425})"
      ]
     },
     "execution_count": 3,
     "metadata": {},
     "output_type": "execute_result"
    }
   ],
   "source": [
    "label_dict4 = {1: healthy_images, 0: cbb_files}\n",
    "paths_HCBB, labels_HCBB = utils.get_paths_labels(label_dict4)\n",
    "Counter([tuple(l) for l in labels_HCBB])"
   ]
  },
  {
   "cell_type": "code",
   "execution_count": 5,
   "metadata": {
    "collapsed": false
   },
   "outputs": [
    {
     "name": "stdout",
     "output_type": "stream",
     "text": [
      "Found 425 examples with label 0\n",
      "Found 1540 examples with label 1\n",
      "partitioning data with train size 1572 and test size 392\n"
     ]
    }
   ],
   "source": [
    "batch_size = 16\n",
    "target_size = (150, 150)\n",
    "\n",
    "itrain_HCBB = it.ImageTraining(label_dict4)\n",
    "traingen_HCBB, testgen_HCBB = itrain_HCBB.get_train_test_generators(batch_size=batch_size, target_size=target_size)"
   ]
  },
  {
   "cell_type": "code",
   "execution_count": 6,
   "metadata": {
    "collapsed": true
   },
   "outputs": [],
   "source": [
    "channels = 3\n",
    "h,w = target_size\n",
    "class_count = len(label_dict4.keys())"
   ]
  },
  {
   "cell_type": "code",
   "execution_count": 7,
   "metadata": {
    "collapsed": false
   },
   "outputs": [
    {
     "name": "stdout",
     "output_type": "stream",
     "text": [
      "loading vgg model...\n",
      "image target size (150, 150) with batch size 16\n",
      "running training examples through top model...\n",
      "running model with 98 training batches and 1568 total samples\n",
      "training labels shape: (1568, 2)\n",
      "final shape of bottleneck_features_train: (1568, 4, 4, 512)\n",
      "running validation examples through top model...\n",
      "running model with 24 validation batches of data\n",
      "final shape of bottleneck_features_validation: (384, 4, 4, 512)\n"
     ]
    }
   ],
   "source": [
    "output_train = 'serialized_objects/0808/outputtrain_HCBB.npy'\n",
    "output_val = 'serialized_objects/0808/outputval_HCBB.npy'\n",
    "labels = 'serialized_objects/0808/labels_HCBB.p'\n",
    "\n",
    "\n",
    "pt.get_output_values(traingen_HCBB, testgen_HCBB, output_train, output_val, labels)"
   ]
  },
  {
   "cell_type": "code",
   "execution_count": 8,
   "metadata": {
    "collapsed": false
   },
   "outputs": [
    {
     "name": "stdout",
     "output_type": "stream",
     "text": [
      "train top model\n",
      "loaded 1568 training labels and 384 validation labels.\n",
      "loading bottleneck_trian_npy...\n",
      "loaded 1568 training data samples\n",
      "loading bottleneck_val_npy...\n",
      "loaded 384 validation data samples\n",
      "fitting model...\n",
      "Train on 1568 samples, validate on 384 samples\n",
      "Epoch 1/100\n",
      "1568/1568 [==============================] - 3s - loss: 3.5411 - acc: 0.7793 - val_loss: 3.5258 - val_acc: 0.7812\n",
      "Epoch 2/100\n",
      "1568/1568 [==============================] - 2s - loss: 3.4642 - acc: 0.7851 - val_loss: 3.5258 - val_acc: 0.7812\n",
      "Epoch 3/100\n",
      "1568/1568 [==============================] - 2s - loss: 3.4642 - acc: 0.7851 - val_loss: 3.5258 - val_acc: 0.7812\n",
      "Epoch 4/100\n",
      "1568/1568 [==============================] - 2s - loss: 3.4642 - acc: 0.7851 - val_loss: 3.5258 - val_acc: 0.7812\n",
      "Epoch 5/100\n",
      "1568/1568 [==============================] - 3s - loss: 3.4642 - acc: 0.7851 - val_loss: 3.5258 - val_acc: 0.7812\n",
      "Epoch 6/100\n",
      "1568/1568 [==============================] - 3s - loss: 3.4642 - acc: 0.7851 - val_loss: 3.5258 - val_acc: 0.7812\n",
      "Epoch 7/100\n",
      "1568/1568 [==============================] - 2s - loss: 3.4642 - acc: 0.7851 - val_loss: 3.5258 - val_acc: 0.7812\n",
      "Epoch 8/100\n",
      "1568/1568 [==============================] - 2s - loss: 3.4642 - acc: 0.7851 - val_loss: 3.5258 - val_acc: 0.7812\n",
      "Epoch 9/100\n",
      "1568/1568 [==============================] - 2s - loss: 3.4642 - acc: 0.7851 - val_loss: 3.5258 - val_acc: 0.7812\n",
      "Epoch 10/100\n",
      "1568/1568 [==============================] - 2s - loss: 3.4642 - acc: 0.7851 - val_loss: 3.5258 - val_acc: 0.7812\n",
      "Epoch 11/100\n",
      "1568/1568 [==============================] - 2s - loss: 3.4642 - acc: 0.7851 - val_loss: 3.5258 - val_acc: 0.7812\n",
      "Epoch 12/100\n",
      "1568/1568 [==============================] - 2s - loss: 3.4642 - acc: 0.7851 - val_loss: 3.5258 - val_acc: 0.7812\n",
      "Epoch 13/100\n",
      "1568/1568 [==============================] - 2s - loss: 3.4642 - acc: 0.7851 - val_loss: 3.5258 - val_acc: 0.7812\n",
      "Epoch 14/100\n",
      "1568/1568 [==============================] - 2s - loss: 3.4642 - acc: 0.7851 - val_loss: 3.5258 - val_acc: 0.7812\n",
      "Epoch 15/100\n",
      "1568/1568 [==============================] - 3s - loss: 3.4642 - acc: 0.7851 - val_loss: 3.5258 - val_acc: 0.7812\n",
      "Epoch 16/100\n",
      "1568/1568 [==============================] - 3s - loss: 3.4642 - acc: 0.7851 - val_loss: 3.5258 - val_acc: 0.7812\n",
      "Epoch 17/100\n",
      "1568/1568 [==============================] - 3s - loss: 3.4642 - acc: 0.7851 - val_loss: 3.5258 - val_acc: 0.7812\n",
      "Epoch 18/100\n",
      "1568/1568 [==============================] - 3s - loss: 3.4642 - acc: 0.7851 - val_loss: 3.5258 - val_acc: 0.7812\n",
      "Epoch 19/100\n",
      "1568/1568 [==============================] - 3s - loss: 3.4642 - acc: 0.7851 - val_loss: 3.5258 - val_acc: 0.7812\n",
      "Epoch 20/100\n",
      "1568/1568 [==============================] - 3s - loss: 3.4642 - acc: 0.7851 - val_loss: 3.5258 - val_acc: 0.7812\n",
      "Epoch 21/100\n",
      "1568/1568 [==============================] - 3s - loss: 3.4642 - acc: 0.7851 - val_loss: 3.5258 - val_acc: 0.7812\n",
      "Epoch 22/100\n",
      "1568/1568 [==============================] - 3s - loss: 3.4642 - acc: 0.7851 - val_loss: 3.5258 - val_acc: 0.7812\n",
      "Epoch 23/100\n",
      "1568/1568 [==============================] - 3s - loss: 3.4642 - acc: 0.7851 - val_loss: 3.5258 - val_acc: 0.7812\n",
      "Epoch 24/100\n",
      "1568/1568 [==============================] - 3s - loss: 3.4642 - acc: 0.7851 - val_loss: 3.5258 - val_acc: 0.7812\n",
      "Epoch 25/100\n",
      "1568/1568 [==============================] - 3s - loss: 3.4642 - acc: 0.7851 - val_loss: 3.5258 - val_acc: 0.7812\n",
      "Epoch 26/100\n",
      "1568/1568 [==============================] - 3s - loss: 3.4642 - acc: 0.7851 - val_loss: 3.5258 - val_acc: 0.7812\n",
      "Epoch 27/100\n",
      "1568/1568 [==============================] - 3s - loss: 3.4642 - acc: 0.7851 - val_loss: 3.5258 - val_acc: 0.7812\n",
      "Epoch 28/100\n",
      "1568/1568 [==============================] - 3s - loss: 3.4642 - acc: 0.7851 - val_loss: 3.5258 - val_acc: 0.7812\n",
      "Epoch 29/100\n",
      "1568/1568 [==============================] - 3s - loss: 3.4642 - acc: 0.7851 - val_loss: 3.5258 - val_acc: 0.7812\n",
      "Epoch 30/100\n",
      "1568/1568 [==============================] - 3s - loss: 3.4642 - acc: 0.7851 - val_loss: 3.5258 - val_acc: 0.7812\n",
      "Epoch 31/100\n",
      "1568/1568 [==============================] - 3s - loss: 3.4642 - acc: 0.7851 - val_loss: 3.5258 - val_acc: 0.7812\n",
      "Epoch 32/100\n",
      "1568/1568 [==============================] - 3s - loss: 3.4642 - acc: 0.7851 - val_loss: 3.5258 - val_acc: 0.7812\n",
      "Epoch 33/100\n",
      "1568/1568 [==============================] - 3s - loss: 3.4642 - acc: 0.7851 - val_loss: 3.5258 - val_acc: 0.7812\n",
      "Epoch 34/100\n",
      "1568/1568 [==============================] - 3s - loss: 3.4642 - acc: 0.7851 - val_loss: 3.5258 - val_acc: 0.7812\n",
      "Epoch 35/100\n",
      "1568/1568 [==============================] - 3s - loss: 3.4642 - acc: 0.7851 - val_loss: 3.5258 - val_acc: 0.7812\n",
      "Epoch 36/100\n",
      "1568/1568 [==============================] - 3s - loss: 3.4642 - acc: 0.7851 - val_loss: 3.5258 - val_acc: 0.7812\n",
      "Epoch 37/100\n",
      "1568/1568 [==============================] - 3s - loss: 3.4642 - acc: 0.7851 - val_loss: 3.5258 - val_acc: 0.7812\n",
      "Epoch 38/100\n",
      "1568/1568 [==============================] - 3s - loss: 3.4642 - acc: 0.7851 - val_loss: 3.5258 - val_acc: 0.7812\n",
      "Epoch 39/100\n",
      "1568/1568 [==============================] - 3s - loss: 3.4642 - acc: 0.7851 - val_loss: 3.5258 - val_acc: 0.7812\n",
      "Epoch 40/100\n",
      "1568/1568 [==============================] - 3s - loss: 3.4642 - acc: 0.7851 - val_loss: 3.5258 - val_acc: 0.7812\n",
      "Epoch 41/100\n",
      "1568/1568 [==============================] - 3s - loss: 3.4642 - acc: 0.7851 - val_loss: 3.5258 - val_acc: 0.7812\n",
      "Epoch 42/100\n",
      "1568/1568 [==============================] - 3s - loss: 3.4642 - acc: 0.7851 - val_loss: 3.5258 - val_acc: 0.7812\n",
      "Epoch 43/100\n",
      "1568/1568 [==============================] - 3s - loss: 3.4642 - acc: 0.7851 - val_loss: 3.5258 - val_acc: 0.7812\n",
      "Epoch 44/100\n",
      "1568/1568 [==============================] - 3s - loss: 3.4642 - acc: 0.7851 - val_loss: 3.5258 - val_acc: 0.7812\n",
      "Epoch 45/100\n",
      "1568/1568 [==============================] - 3s - loss: 3.4642 - acc: 0.7851 - val_loss: 3.5258 - val_acc: 0.7812\n",
      "Epoch 46/100\n",
      "1568/1568 [==============================] - 3s - loss: 3.4642 - acc: 0.7851 - val_loss: 3.5258 - val_acc: 0.7812\n",
      "Epoch 47/100\n",
      "1568/1568 [==============================] - 3s - loss: 3.4642 - acc: 0.7851 - val_loss: 3.5258 - val_acc: 0.7812\n",
      "Epoch 48/100\n",
      "1568/1568 [==============================] - 3s - loss: 3.4642 - acc: 0.7851 - val_loss: 3.5258 - val_acc: 0.7812\n",
      "Epoch 49/100\n",
      "1568/1568 [==============================] - 3s - loss: 3.4642 - acc: 0.7851 - val_loss: 3.5258 - val_acc: 0.7812\n",
      "Epoch 50/100\n",
      "1568/1568 [==============================] - 3s - loss: 3.4642 - acc: 0.7851 - val_loss: 3.5258 - val_acc: 0.7812\n",
      "Epoch 51/100\n",
      "1568/1568 [==============================] - 3s - loss: 3.4642 - acc: 0.7851 - val_loss: 3.5258 - val_acc: 0.7812\n",
      "Epoch 52/100\n",
      "1568/1568 [==============================] - 3s - loss: 3.4642 - acc: 0.7851 - val_loss: 3.5258 - val_acc: 0.7812\n",
      "Epoch 53/100\n",
      "1568/1568 [==============================] - 3s - loss: 3.4642 - acc: 0.7851 - val_loss: 3.5258 - val_acc: 0.7812\n",
      "Epoch 54/100\n",
      "1568/1568 [==============================] - 3s - loss: 3.4642 - acc: 0.7851 - val_loss: 3.5258 - val_acc: 0.7812\n",
      "Epoch 55/100\n",
      "1568/1568 [==============================] - 3s - loss: 3.4642 - acc: 0.7851 - val_loss: 3.5258 - val_acc: 0.7812\n",
      "Epoch 56/100\n",
      "1568/1568 [==============================] - 3s - loss: 3.4642 - acc: 0.7851 - val_loss: 3.5258 - val_acc: 0.7812\n",
      "Epoch 57/100\n",
      "1568/1568 [==============================] - 3s - loss: 3.4642 - acc: 0.7851 - val_loss: 3.5258 - val_acc: 0.7812\n",
      "Epoch 58/100\n",
      "1568/1568 [==============================] - 3s - loss: 3.4642 - acc: 0.7851 - val_loss: 3.5258 - val_acc: 0.7812\n",
      "Epoch 59/100\n",
      "1568/1568 [==============================] - 3s - loss: 3.4642 - acc: 0.7851 - val_loss: 3.5258 - val_acc: 0.7812\n",
      "Epoch 60/100\n",
      "1568/1568 [==============================] - 3s - loss: 3.4642 - acc: 0.7851 - val_loss: 3.5258 - val_acc: 0.7812\n",
      "Epoch 61/100\n",
      "1568/1568 [==============================] - 3s - loss: 3.4642 - acc: 0.7851 - val_loss: 3.5258 - val_acc: 0.7812\n",
      "Epoch 62/100\n",
      "1568/1568 [==============================] - 3s - loss: 3.4642 - acc: 0.7851 - val_loss: 3.5258 - val_acc: 0.7812\n",
      "Epoch 63/100\n",
      "1568/1568 [==============================] - 3s - loss: 3.4642 - acc: 0.7851 - val_loss: 3.5258 - val_acc: 0.7812\n",
      "Epoch 64/100\n",
      "1568/1568 [==============================] - 3s - loss: 3.4642 - acc: 0.7851 - val_loss: 3.5258 - val_acc: 0.7812\n",
      "Epoch 65/100\n",
      "1568/1568 [==============================] - 3s - loss: 3.4642 - acc: 0.7851 - val_loss: 3.5258 - val_acc: 0.7812\n",
      "Epoch 66/100\n",
      "1568/1568 [==============================] - 3s - loss: 3.4642 - acc: 0.7851 - val_loss: 3.5258 - val_acc: 0.7812\n",
      "Epoch 67/100\n",
      "1568/1568 [==============================] - 3s - loss: 3.4642 - acc: 0.7851 - val_loss: 3.5258 - val_acc: 0.7812\n",
      "Epoch 68/100\n",
      "1568/1568 [==============================] - 3s - loss: 3.4642 - acc: 0.7851 - val_loss: 3.5258 - val_acc: 0.7812\n",
      "Epoch 69/100\n",
      "1568/1568 [==============================] - 3s - loss: 3.4642 - acc: 0.7851 - val_loss: 3.5258 - val_acc: 0.7812\n",
      "Epoch 70/100\n",
      "1568/1568 [==============================] - 3s - loss: 3.4642 - acc: 0.7851 - val_loss: 3.5258 - val_acc: 0.7812\n",
      "Epoch 71/100\n",
      "1568/1568 [==============================] - 3s - loss: 3.4642 - acc: 0.7851 - val_loss: 3.5258 - val_acc: 0.7812\n",
      "Epoch 72/100\n",
      "1568/1568 [==============================] - 3s - loss: 3.4642 - acc: 0.7851 - val_loss: 3.5258 - val_acc: 0.7812\n",
      "Epoch 73/100\n",
      "1568/1568 [==============================] - 3s - loss: 3.4642 - acc: 0.7851 - val_loss: 3.5258 - val_acc: 0.7812\n",
      "Epoch 74/100\n",
      "1568/1568 [==============================] - 3s - loss: 3.4642 - acc: 0.7851 - val_loss: 3.5258 - val_acc: 0.7812\n",
      "Epoch 75/100\n",
      "1568/1568 [==============================] - 3s - loss: 3.4642 - acc: 0.7851 - val_loss: 3.5258 - val_acc: 0.7812\n",
      "Epoch 76/100\n",
      "1568/1568 [==============================] - 3s - loss: 3.4642 - acc: 0.7851 - val_loss: 3.5258 - val_acc: 0.7812\n",
      "Epoch 77/100\n",
      "1568/1568 [==============================] - 3s - loss: 3.4642 - acc: 0.7851 - val_loss: 3.5258 - val_acc: 0.7812\n",
      "Epoch 78/100\n",
      "1568/1568 [==============================] - 3s - loss: 3.4642 - acc: 0.7851 - val_loss: 3.5258 - val_acc: 0.7812\n",
      "Epoch 79/100\n",
      "1568/1568 [==============================] - 3s - loss: 3.4642 - acc: 0.7851 - val_loss: 3.5258 - val_acc: 0.7812\n",
      "Epoch 80/100\n",
      "1568/1568 [==============================] - 3s - loss: 3.4642 - acc: 0.7851 - val_loss: 3.5258 - val_acc: 0.7812\n",
      "Epoch 81/100\n",
      "1568/1568 [==============================] - 2s - loss: 3.4642 - acc: 0.7851 - val_loss: 3.5258 - val_acc: 0.7812\n",
      "Epoch 82/100\n",
      "1568/1568 [==============================] - 3s - loss: 3.4642 - acc: 0.7851 - val_loss: 3.5258 - val_acc: 0.7812\n",
      "Epoch 83/100\n",
      "1568/1568 [==============================] - 2s - loss: 3.4642 - acc: 0.7851 - val_loss: 3.5258 - val_acc: 0.7812\n",
      "Epoch 84/100\n",
      "1568/1568 [==============================] - 2s - loss: 3.4642 - acc: 0.7851 - val_loss: 3.5258 - val_acc: 0.7812\n",
      "Epoch 85/100\n",
      "1568/1568 [==============================] - 2s - loss: 3.4642 - acc: 0.7851 - val_loss: 3.5258 - val_acc: 0.7812\n",
      "Epoch 86/100\n",
      "1568/1568 [==============================] - 3s - loss: 3.4642 - acc: 0.7851 - val_loss: 3.5258 - val_acc: 0.7812\n",
      "Epoch 87/100\n",
      "1568/1568 [==============================] - 2s - loss: 3.4642 - acc: 0.7851 - val_loss: 3.5258 - val_acc: 0.7812\n",
      "Epoch 88/100\n",
      "1568/1568 [==============================] - 2s - loss: 3.4642 - acc: 0.7851 - val_loss: 3.5258 - val_acc: 0.7812\n",
      "Epoch 89/100\n",
      "1568/1568 [==============================] - 2s - loss: 3.4642 - acc: 0.7851 - val_loss: 3.5258 - val_acc: 0.7812\n",
      "Epoch 90/100\n",
      "1568/1568 [==============================] - 2s - loss: 3.4642 - acc: 0.7851 - val_loss: 3.5258 - val_acc: 0.7812\n",
      "Epoch 91/100\n",
      "1568/1568 [==============================] - 2s - loss: 3.4642 - acc: 0.7851 - val_loss: 3.5258 - val_acc: 0.7812\n",
      "Epoch 92/100\n",
      "1568/1568 [==============================] - 2s - loss: 3.4642 - acc: 0.7851 - val_loss: 3.5258 - val_acc: 0.7812\n",
      "Epoch 93/100\n",
      "1568/1568 [==============================] - 2s - loss: 3.4642 - acc: 0.7851 - val_loss: 3.5258 - val_acc: 0.7812\n",
      "Epoch 94/100\n",
      "1568/1568 [==============================] - 2s - loss: 3.4642 - acc: 0.7851 - val_loss: 3.5258 - val_acc: 0.7812\n",
      "Epoch 95/100\n",
      "1568/1568 [==============================] - 2s - loss: 3.4642 - acc: 0.7851 - val_loss: 3.5258 - val_acc: 0.7812\n",
      "Epoch 96/100\n",
      "1568/1568 [==============================] - 2s - loss: 3.4642 - acc: 0.7851 - val_loss: 3.5258 - val_acc: 0.7812\n",
      "Epoch 97/100\n",
      "1568/1568 [==============================] - 2s - loss: 3.4642 - acc: 0.7851 - val_loss: 3.5258 - val_acc: 0.7812\n",
      "Epoch 98/100\n",
      "1568/1568 [==============================] - 2s - loss: 3.4642 - acc: 0.7851 - val_loss: 3.5258 - val_acc: 0.7812\n",
      "Epoch 99/100\n",
      "1568/1568 [==============================] - 2s - loss: 3.4642 - acc: 0.7851 - val_loss: 3.5258 - val_acc: 0.7812\n",
      "Epoch 100/100\n",
      "1568/1568 [==============================] - 2s - loss: 3.4642 - acc: 0.7851 - val_loss: 3.5258 - val_acc: 0.7812\n",
      "storing weights...\n"
     ]
    }
   ],
   "source": [
    "full_model_json = 'serialized_objects/0808/model_object_HCBB.json'\n",
    "weights_path = 'serialized_objects/0808/model_weights_HCBB.hd5'\n",
    "epochs = 100\n",
    "\n",
    "\n",
    "model_history = pt.train_top_model(full_model_json, weights_path, output_train, output_val, labels, epochs=epochs)"
   ]
  },
  {
   "cell_type": "markdown",
   "metadata": {},
   "source": [
    "## Four Class Classification: Disease Types"
   ]
  },
  {
   "cell_type": "code",
   "execution_count": 11,
   "metadata": {
    "collapsed": false
   },
   "outputs": [],
   "source": [
    "label_dict5 = {0: cbb_files, 1: cbsd_files, 2: cgm_files, 3: cmd_files}"
   ]
  },
  {
   "cell_type": "code",
   "execution_count": 12,
   "metadata": {
    "collapsed": false
   },
   "outputs": [
    {
     "name": "stdout",
     "output_type": "stream",
     "text": [
      "Found 425 examples with label 0\n",
      "Found 1751 examples with label 1\n",
      "Found 722 examples with label 2\n",
      "Found 3012 examples with label 3\n"
     ]
    },
    {
     "data": {
      "text/plain": [
       "Counter({(0.0, 1.0): 1540, (1.0, 0.0): 425})"
      ]
     },
     "execution_count": 12,
     "metadata": {},
     "output_type": "execute_result"
    }
   ],
   "source": [
    "paths_DIS, labels_DIS = utils.get_paths_labels(label_dict5)\n",
    "Counter([tuple(l) for l in labels_HCBB])"
   ]
  },
  {
   "cell_type": "code",
   "execution_count": 13,
   "metadata": {
    "collapsed": false
   },
   "outputs": [
    {
     "name": "stdout",
     "output_type": "stream",
     "text": [
      "Found 425 examples with label 0\n",
      "Found 1751 examples with label 1\n",
      "Found 722 examples with label 2\n",
      "Found 3012 examples with label 3\n",
      "partitioning data with train size 4728 and test size 1181\n"
     ]
    }
   ],
   "source": [
    "batch_size = 16\n",
    "target_size = (150, 150)\n",
    "\n",
    "itrain_DIS = it.ImageTraining(label_dict5)\n",
    "traingen_DIS, testgen_DIS = itrain_DIS.get_train_test_generators(batch_size=batch_size, target_size=target_size)"
   ]
  },
  {
   "cell_type": "code",
   "execution_count": 14,
   "metadata": {
    "collapsed": false
   },
   "outputs": [
    {
     "name": "stdout",
     "output_type": "stream",
     "text": [
      "loading vgg model...\n",
      "image target size (150, 150) with batch size 16\n",
      "running training examples through top model...\n",
      "running model with 295 training batches and 4720 total samples\n",
      "training labels shape: (4720, 4)\n",
      "final shape of bottleneck_features_train: (4720, 4, 4, 512)\n",
      "running validation examples through top model...\n",
      "running model with 73 validation batches of data\n",
      "final shape of bottleneck_features_validation: (1168, 4, 4, 512)\n"
     ]
    }
   ],
   "source": [
    "output_train = 'serialized_objects/0808/outputtrain_DIS.npy'\n",
    "output_val = 'serialized_objects/0808/outputval_DIS.npy'\n",
    "labels = 'serialized_objects/0808/labels_DIS.p'\n",
    "\n",
    "\n",
    "pt.get_output_values(traingen_DIS, testgen_DIS, output_train, output_val, labels)"
   ]
  },
  {
   "cell_type": "code",
   "execution_count": 16,
   "metadata": {
    "collapsed": false
   },
   "outputs": [
    {
     "name": "stdout",
     "output_type": "stream",
     "text": [
      "train top model\n",
      "loaded 4720 training labels and 1168 validation labels.\n",
      "loading bottleneck_trian_npy...\n",
      "loaded 4720 training data samples\n",
      "loading bottleneck_val_npy...\n",
      "loaded 1168 validation data samples\n",
      "fitting model...\n",
      "Train on 4720 samples, validate on 1168 samples\n",
      "Epoch 1/100\n",
      "4720/4720 [==============================] - 9s - loss: 11.3742 - acc: 0.2919 - val_loss: 11.2606 - val_acc: 0.3014\n",
      "Epoch 2/100\n",
      "4720/4720 [==============================] - 8s - loss: 7.4253 - acc: 0.5324 - val_loss: 5.5469 - val_acc: 0.6515\n",
      "Epoch 3/100\n",
      "4720/4720 [==============================] - 8s - loss: 5.3252 - acc: 0.6640 - val_loss: 5.3710 - val_acc: 0.6618\n",
      "Epoch 4/100\n",
      "4720/4720 [==============================] - 8s - loss: 4.8801 - acc: 0.6926 - val_loss: 6.3264 - val_acc: 0.6070\n",
      "Epoch 5/100\n",
      "4720/4720 [==============================] - 8s - loss: 4.8508 - acc: 0.6951 - val_loss: 5.0922 - val_acc: 0.6824\n",
      "Epoch 6/100\n",
      "4720/4720 [==============================] - 8s - loss: 4.8723 - acc: 0.6936 - val_loss: 4.6458 - val_acc: 0.7063\n",
      "Epoch 7/100\n",
      "4720/4720 [==============================] - 8s - loss: 4.6457 - acc: 0.7095 - val_loss: 4.6590 - val_acc: 0.7089\n",
      "Epoch 8/100\n",
      "4720/4720 [==============================] - 8s - loss: 4.6140 - acc: 0.7114 - val_loss: 4.6943 - val_acc: 0.7046\n",
      "Epoch 9/100\n",
      "4720/4720 [==============================] - 8s - loss: 4.7055 - acc: 0.7051 - val_loss: 4.7391 - val_acc: 0.7038\n",
      "Epoch 10/100\n",
      "4720/4720 [==============================] - 8s - loss: 4.5209 - acc: 0.7169 - val_loss: 4.6539 - val_acc: 0.7098\n",
      "Epoch 11/100\n",
      "4720/4720 [==============================] - 8s - loss: 4.5153 - acc: 0.7169 - val_loss: 4.5540 - val_acc: 0.7166\n",
      "Epoch 12/100\n",
      "4720/4720 [==============================] - 8s - loss: 4.4803 - acc: 0.7203 - val_loss: 4.6825 - val_acc: 0.7072\n",
      "Epoch 13/100\n",
      "4720/4720 [==============================] - 9s - loss: 4.4997 - acc: 0.7184 - val_loss: 4.4423 - val_acc: 0.7183\n",
      "Epoch 14/100\n",
      "4720/4720 [==============================] - 9s - loss: 4.3859 - acc: 0.7254 - val_loss: 4.6453 - val_acc: 0.7115\n",
      "Epoch 15/100\n",
      "4720/4720 [==============================] - 8s - loss: 4.4634 - acc: 0.7216 - val_loss: 4.5964 - val_acc: 0.7123\n",
      "Epoch 16/100\n",
      "4720/4720 [==============================] - 8s - loss: 4.3826 - acc: 0.7263 - val_loss: 4.5671 - val_acc: 0.7158\n",
      "Epoch 17/100\n",
      "4720/4720 [==============================] - 8s - loss: 4.3257 - acc: 0.7303 - val_loss: 4.6192 - val_acc: 0.7106\n",
      "Epoch 18/100\n",
      "4720/4720 [==============================] - 8s - loss: 4.5262 - acc: 0.7169 - val_loss: 4.6118 - val_acc: 0.7132\n",
      "Epoch 19/100\n",
      "4720/4720 [==============================] - 8s - loss: 4.3711 - acc: 0.7267 - val_loss: 4.8535 - val_acc: 0.6952\n",
      "Epoch 20/100\n",
      "4720/4720 [==============================] - 9s - loss: 4.3417 - acc: 0.7288 - val_loss: 4.5192 - val_acc: 0.7175\n",
      "Epoch 21/100\n",
      "4720/4720 [==============================] - 9s - loss: 4.4744 - acc: 0.7203 - val_loss: 4.5708 - val_acc: 0.7149\n",
      "Epoch 22/100\n",
      "4720/4720 [==============================] - 8s - loss: 4.2526 - acc: 0.7337 - val_loss: 4.3227 - val_acc: 0.7277\n",
      "Epoch 23/100\n",
      "4720/4720 [==============================] - 8s - loss: 4.3471 - acc: 0.7282 - val_loss: 4.8487 - val_acc: 0.6978\n",
      "Epoch 24/100\n",
      "4720/4720 [==============================] - 8s - loss: 4.2246 - acc: 0.7352 - val_loss: 4.4406 - val_acc: 0.7235\n",
      "Epoch 25/100\n",
      "4720/4720 [==============================] - 9s - loss: 4.1494 - acc: 0.7398 - val_loss: 4.6592 - val_acc: 0.7080\n",
      "Epoch 26/100\n",
      "4720/4720 [==============================] - 8s - loss: 4.1617 - acc: 0.7388 - val_loss: 4.5166 - val_acc: 0.7183\n",
      "Epoch 27/100\n",
      "4720/4720 [==============================] - 9s - loss: 4.2407 - acc: 0.7350 - val_loss: 4.5238 - val_acc: 0.7183\n",
      "Epoch 28/100\n",
      "4720/4720 [==============================] - 8s - loss: 4.1665 - acc: 0.7390 - val_loss: 4.3674 - val_acc: 0.7286\n",
      "Epoch 29/100\n",
      "4720/4720 [==============================] - 8s - loss: 4.2442 - acc: 0.7354 - val_loss: 4.4777 - val_acc: 0.7209\n",
      "Epoch 30/100\n",
      "4720/4720 [==============================] - 9s - loss: 4.1581 - acc: 0.7398 - val_loss: 4.5785 - val_acc: 0.7140\n",
      "Epoch 31/100\n",
      "4720/4720 [==============================] - 8s - loss: 3.9773 - acc: 0.7513 - val_loss: 4.2554 - val_acc: 0.7354\n",
      "Epoch 32/100\n",
      "4720/4720 [==============================] - 8s - loss: 3.9945 - acc: 0.7506 - val_loss: 4.3113 - val_acc: 0.7295\n",
      "Epoch 33/100\n",
      "4720/4720 [==============================] - 8s - loss: 3.9513 - acc: 0.7525 - val_loss: 4.4883 - val_acc: 0.7183\n",
      "Epoch 34/100\n",
      "4720/4720 [==============================] - 8s - loss: 3.9153 - acc: 0.7540 - val_loss: 4.3831 - val_acc: 0.7260\n",
      "Epoch 35/100\n",
      "4720/4720 [==============================] - 8s - loss: 3.9702 - acc: 0.7513 - val_loss: 4.2851 - val_acc: 0.7329\n",
      "Epoch 36/100\n",
      "4720/4720 [==============================] - 8s - loss: 4.0246 - acc: 0.7483 - val_loss: 4.4040 - val_acc: 0.7235\n",
      "Epoch 37/100\n",
      "4720/4720 [==============================] - 8s - loss: 3.8793 - acc: 0.7559 - val_loss: 4.3018 - val_acc: 0.7295\n",
      "Epoch 38/100\n",
      "4720/4720 [==============================] - 8s - loss: 3.8383 - acc: 0.7606 - val_loss: 4.3855 - val_acc: 0.7269\n",
      "Epoch 39/100\n",
      "4720/4720 [==============================] - 8s - loss: 3.9014 - acc: 0.7561 - val_loss: 4.3559 - val_acc: 0.7277\n",
      "Epoch 40/100\n",
      "4720/4720 [==============================] - 8s - loss: 3.8008 - acc: 0.7619 - val_loss: 4.3414 - val_acc: 0.7269\n",
      "Epoch 41/100\n",
      "4720/4720 [==============================] - 9s - loss: 3.8631 - acc: 0.7587 - val_loss: 4.6694 - val_acc: 0.7072\n",
      "Epoch 42/100\n",
      "4720/4720 [==============================] - 9s - loss: 4.1978 - acc: 0.7358 - val_loss: 4.3205 - val_acc: 0.7277\n",
      "Epoch 43/100\n",
      "4720/4720 [==============================] - 8s - loss: 3.6295 - acc: 0.7727 - val_loss: 4.2266 - val_acc: 0.7363\n",
      "Epoch 44/100\n",
      "4720/4720 [==============================] - 8s - loss: 3.7865 - acc: 0.7631 - val_loss: 4.5131 - val_acc: 0.7175\n",
      "Epoch 45/100\n",
      "4720/4720 [==============================] - 8s - loss: 3.7393 - acc: 0.7655 - val_loss: 4.2901 - val_acc: 0.7312\n",
      "Epoch 46/100\n",
      "4720/4720 [==============================] - 8s - loss: 3.8976 - acc: 0.7561 - val_loss: 4.2125 - val_acc: 0.7363\n",
      "Epoch 47/100\n",
      "4720/4720 [==============================] - 9s - loss: 3.8051 - acc: 0.7621 - val_loss: 4.4044 - val_acc: 0.7243\n",
      "Epoch 48/100\n",
      "4720/4720 [==============================] - 9s - loss: 3.7446 - acc: 0.7657 - val_loss: 4.1641 - val_acc: 0.7397\n",
      "Epoch 49/100\n",
      "4720/4720 [==============================] - 8s - loss: 3.8024 - acc: 0.7623 - val_loss: 4.1817 - val_acc: 0.7380\n",
      "Epoch 50/100\n",
      "4720/4720 [==============================] - 9s - loss: 3.7772 - acc: 0.7640 - val_loss: 4.2488 - val_acc: 0.7354\n",
      "Epoch 51/100\n",
      "4720/4720 [==============================] - 9s - loss: 3.7933 - acc: 0.7636 - val_loss: 4.1203 - val_acc: 0.7414\n",
      "Epoch 52/100\n",
      "4720/4720 [==============================] - 9s - loss: 3.7554 - acc: 0.7650 - val_loss: 4.4642 - val_acc: 0.7200\n",
      "Epoch 53/100\n",
      "4720/4720 [==============================] - 10s - loss: 3.7147 - acc: 0.7665 - val_loss: 4.6012 - val_acc: 0.7123\n",
      "Epoch 54/100\n",
      "4720/4720 [==============================] - 9s - loss: 3.8110 - acc: 0.7606 - val_loss: 4.2394 - val_acc: 0.7337\n",
      "Epoch 55/100\n",
      "4720/4720 [==============================] - 9s - loss: 3.6495 - acc: 0.7722 - val_loss: 4.1956 - val_acc: 0.7389\n",
      "Epoch 56/100\n",
      "4720/4720 [==============================] - 11s - loss: 3.7724 - acc: 0.7648 - val_loss: 4.2000 - val_acc: 0.7363\n",
      "Epoch 57/100\n",
      "4720/4720 [==============================] - 9s - loss: 3.6174 - acc: 0.7731 - val_loss: 4.2266 - val_acc: 0.7329\n",
      "Epoch 58/100\n",
      "4720/4720 [==============================] - 9s - loss: 3.7435 - acc: 0.7663 - val_loss: 4.2847 - val_acc: 0.7320\n",
      "Epoch 59/100\n",
      "4720/4720 [==============================] - 9s - loss: 3.6151 - acc: 0.7742 - val_loss: 4.1360 - val_acc: 0.7414\n",
      "Epoch 60/100\n",
      "4720/4720 [==============================] - 9s - loss: 3.6779 - acc: 0.7699 - val_loss: 4.2715 - val_acc: 0.7320\n",
      "Epoch 61/100\n",
      "4720/4720 [==============================] - 9s - loss: 3.6312 - acc: 0.7731 - val_loss: 4.1487 - val_acc: 0.7406\n",
      "Epoch 62/100\n",
      "4720/4720 [==============================] - 8s - loss: 3.5812 - acc: 0.7758 - val_loss: 4.5238 - val_acc: 0.7166\n",
      "Epoch 63/100\n",
      "4720/4720 [==============================] - 10s - loss: 3.5509 - acc: 0.7780 - val_loss: 4.1974 - val_acc: 0.7372\n",
      "Epoch 64/100\n",
      "4720/4720 [==============================] - 10s - loss: 3.6511 - acc: 0.7722 - val_loss: 4.2867 - val_acc: 0.7337\n",
      "Epoch 65/100\n",
      "4720/4720 [==============================] - 9s - loss: 3.5533 - acc: 0.7780 - val_loss: 4.1699 - val_acc: 0.7389\n",
      "Epoch 66/100\n",
      "4720/4720 [==============================] - 8s - loss: 3.5383 - acc: 0.7786 - val_loss: 4.1530 - val_acc: 0.7372\n",
      "Epoch 67/100\n",
      "4720/4720 [==============================] - 9s - loss: 3.5593 - acc: 0.7780 - val_loss: 4.2989 - val_acc: 0.7320\n",
      "Epoch 68/100\n",
      "4720/4720 [==============================] - 9s - loss: 3.6436 - acc: 0.7714 - val_loss: 4.3570 - val_acc: 0.7277\n",
      "Epoch 69/100\n",
      "4720/4720 [==============================] - 8s - loss: 3.5166 - acc: 0.7801 - val_loss: 4.1528 - val_acc: 0.7406\n",
      "Epoch 70/100\n",
      "4720/4720 [==============================] - 8s - loss: 3.5081 - acc: 0.7809 - val_loss: 4.2121 - val_acc: 0.7363\n",
      "Epoch 71/100\n",
      "4720/4720 [==============================] - 8s - loss: 3.5638 - acc: 0.7769 - val_loss: 4.1773 - val_acc: 0.7406\n",
      "Epoch 72/100\n",
      "4720/4720 [==============================] - 8s - loss: 3.4289 - acc: 0.7858 - val_loss: 4.2058 - val_acc: 0.7363\n",
      "Epoch 73/100\n",
      "4720/4720 [==============================] - 8s - loss: 3.5748 - acc: 0.7763 - val_loss: 4.4577 - val_acc: 0.7209\n",
      "Epoch 74/100\n",
      "4720/4720 [==============================] - 8s - loss: 3.4617 - acc: 0.7820 - val_loss: 4.4273 - val_acc: 0.7252\n",
      "Epoch 75/100\n",
      "4720/4720 [==============================] - 8s - loss: 3.4067 - acc: 0.7867 - val_loss: 4.3049 - val_acc: 0.7303\n",
      "Epoch 76/100\n",
      "4720/4720 [==============================] - 8s - loss: 3.5135 - acc: 0.7801 - val_loss: 4.1571 - val_acc: 0.7397\n",
      "Epoch 77/100\n",
      "4720/4720 [==============================] - 8s - loss: 3.6209 - acc: 0.7720 - val_loss: 4.2080 - val_acc: 0.7372\n",
      "Epoch 78/100\n",
      "4720/4720 [==============================] - 10s - loss: 3.3892 - acc: 0.7886 - val_loss: 4.3443 - val_acc: 0.7286\n",
      "Epoch 79/100\n",
      "4720/4720 [==============================] - 8s - loss: 3.4303 - acc: 0.7860 - val_loss: 4.1462 - val_acc: 0.7397\n",
      "Epoch 80/100\n",
      "4720/4720 [==============================] - 8s - loss: 3.4557 - acc: 0.7835 - val_loss: 4.1562 - val_acc: 0.7397\n",
      "Epoch 81/100\n",
      "4720/4720 [==============================] - 8s - loss: 3.3997 - acc: 0.7869 - val_loss: 4.2301 - val_acc: 0.7363\n",
      "Epoch 82/100\n",
      "4720/4720 [==============================] - 9s - loss: 3.3641 - acc: 0.7892 - val_loss: 4.2599 - val_acc: 0.7354\n",
      "Epoch 83/100\n",
      "4720/4720 [==============================] - 8s - loss: 3.2858 - acc: 0.7947 - val_loss: 4.1883 - val_acc: 0.7372\n",
      "Epoch 84/100\n",
      "4720/4720 [==============================] - 10s - loss: 3.3122 - acc: 0.7930 - val_loss: 4.2705 - val_acc: 0.7329\n",
      "Epoch 85/100\n",
      "4720/4720 [==============================] - 10s - loss: 3.3031 - acc: 0.7934 - val_loss: 4.5254 - val_acc: 0.7183\n",
      "Epoch 86/100\n",
      "4720/4720 [==============================] - 10s - loss: 3.3449 - acc: 0.7917 - val_loss: 4.3652 - val_acc: 0.7277\n",
      "Epoch 87/100\n",
      "4720/4720 [==============================] - 10s - loss: 3.2603 - acc: 0.7951 - val_loss: 4.0791 - val_acc: 0.7432\n",
      "Epoch 88/100\n",
      "4720/4720 [==============================] - 9s - loss: 3.1865 - acc: 0.8006 - val_loss: 4.1408 - val_acc: 0.7397\n",
      "Epoch 89/100\n",
      "4720/4720 [==============================] - 9s - loss: 3.2549 - acc: 0.7964 - val_loss: 4.1038 - val_acc: 0.7449\n",
      "Epoch 90/100\n",
      "4720/4720 [==============================] - 8s - loss: 3.2707 - acc: 0.7949 - val_loss: 4.0400 - val_acc: 0.7483\n",
      "Epoch 91/100\n",
      "4720/4720 [==============================] - 8s - loss: 3.2222 - acc: 0.7975 - val_loss: 4.0864 - val_acc: 0.7432\n",
      "Epoch 92/100\n",
      "4720/4720 [==============================] - 8s - loss: 3.2423 - acc: 0.7970 - val_loss: 4.2955 - val_acc: 0.7312\n",
      "Epoch 93/100\n",
      "4720/4720 [==============================] - 10s - loss: 3.3302 - acc: 0.7915 - val_loss: 4.2649 - val_acc: 0.7329\n",
      "Epoch 94/100\n",
      "4720/4720 [==============================] - 10s - loss: 3.2871 - acc: 0.7932 - val_loss: 4.2618 - val_acc: 0.7329\n",
      "Epoch 95/100\n",
      "4720/4720 [==============================] - 9s - loss: 3.4128 - acc: 0.7852 - val_loss: 4.0765 - val_acc: 0.7449\n",
      "Epoch 96/100\n",
      "4720/4720 [==============================] - 8s - loss: 3.3189 - acc: 0.7922 - val_loss: 4.0265 - val_acc: 0.7474\n",
      "Epoch 97/100\n",
      "4720/4720 [==============================] - 8s - loss: 3.2019 - acc: 0.7994 - val_loss: 4.0720 - val_acc: 0.7449\n",
      "Epoch 98/100\n",
      "4720/4720 [==============================] - 9s - loss: 3.2132 - acc: 0.7987 - val_loss: 4.1520 - val_acc: 0.7397\n",
      "Epoch 99/100\n",
      "4720/4720 [==============================] - 10s - loss: 3.2531 - acc: 0.7968 - val_loss: 4.1810 - val_acc: 0.7397\n",
      "Epoch 100/100\n",
      "4720/4720 [==============================] - 9s - loss: 3.2667 - acc: 0.7964 - val_loss: 4.1460 - val_acc: 0.7397\n",
      "storing weights...\n"
     ]
    }
   ],
   "source": [
    "full_model_json = 'serialized_objects/0808/model_object_DIS.json'\n",
    "weights_path = 'serialized_objects/0808/model_weights_DIS.hd5'\n",
    "num_classes = len(label_dict5.keys())\n",
    "epochs = 100\n",
    "\n",
    "\n",
    "model_history = pt.train_top_model(full_model_json, weights_path, output_train,\n",
    "                                   output_val, labels, epochs=epochs, num_classes=num_classes)"
   ]
  },
  {
   "cell_type": "code",
   "execution_count": 17,
   "metadata": {
    "collapsed": false
   },
   "outputs": [
    {
     "name": "stdout",
     "output_type": "stream",
     "text": [
      "['acc', 'loss', 'val_acc', 'val_loss']\n"
     ]
    },
    {
     "data": {
      "image/png": "[encoded data removed]",
      "text/plain": [
       "<matplotlib.figure.Figure at 0x1262997d0>"
      ]
     },
     "metadata": {},
     "output_type": "display_data"
    },
    {
     "data": {
      "image/png": "[encoded data removed]",
      "text/plain": [
       "<matplotlib.figure.Figure at 0x129061c50>"
      ]
     },
     "metadata": {},
     "output_type": "display_data"
    }
   ],
   "source": [
    "mplot.plot_history(model_history)"
   ]
  },
  {
   "cell_type": "code",
   "execution_count": null,
   "metadata": {
    "collapsed": true
   },
   "outputs": [],
   "source": []
  }
 ],
 "metadata": {
  "kernelspec": {
   "display_name": "Python 2",
   "language": "python",
   "name": "python2"
  },
  "language_info": {
   "codemirror_mode": {
    "name": "ipython",
    "version": 2
   },
   "file_extension": ".py",
   "mimetype": "text/x-python",
   "name": "python",
   "nbconvert_exporter": "python",
   "pygments_lexer": "ipython2",
   "version": "2.7.12"
  }
 },
 "nbformat": 4,
 "nbformat_minor": 0
}
