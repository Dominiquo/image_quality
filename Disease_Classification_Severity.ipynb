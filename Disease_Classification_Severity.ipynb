{
 "cells": [
  {
   "cell_type": "markdown",
   "metadata": {},
   "source": [
    "# Classifying Diseases and the Severity of that Disease"
   ]
  },
  {
   "cell_type": "code",
   "execution_count": 1,
   "metadata": {
    "collapsed": true
   },
   "outputs": [],
   "source": [
    "%matplotlib inline\n",
    "import numpy as np\n",
    "from matplotlib import pyplot as plt\n",
    "import os"
   ]
  },
  {
   "cell_type": "code",
   "execution_count": 2,
   "metadata": {
    "collapsed": true
   },
   "outputs": [],
   "source": [
    "healthy_path = 'data/Severities_Final/healthy/'\n",
    "cmd_path = 'data/Severities_Final/cmd-levels/'\n",
    "cgm_path = 'data/Severities_Final/cgm-levels/'\n",
    "cbsd_path = 'data/Severities_Final/cbsd-levels/'\n",
    "cbb_path = 'data/Severities_Final/cbb-levels/'"
   ]
  },
  {
   "cell_type": "code",
   "execution_count": 3,
   "metadata": {
    "collapsed": false
   },
   "outputs": [
    {
     "name": "stdout",
     "output_type": "stream",
     "text": [
      "Health Samples: 1476\n",
      "_________________________________________\n",
      "checking number of data samples for data/Severities_Final/cmd-levels/\n",
      "Number of images in cmd_1 : 14\n",
      "Number of images in cmd_2 : 613\n",
      "Number of images in cmd_3 : 1450\n",
      "Number of images in cmd_4 : 867\n",
      "Number of images in cmd_5 : 82\n",
      "_________________________________________\n",
      "checking number of data samples for data/Severities_Final/cgm-levels/\n",
      "Number of images in cgm_1 : 0\n",
      "Number of images in cgm_2 : 197\n",
      "Number of images in cgm_3 : 315\n",
      "Number of images in cgm_4 : 184\n",
      "Number of images in cgm_5 : 26\n",
      "_________________________________________\n",
      "checking number of data samples for data/Severities_Final/cbsd-levels/\n",
      "Number of images in cbsd_1 : 12\n",
      "Number of images in cbsd_2 : 968\n",
      "Number of images in cbsd_3 : 620\n",
      "Number of images in cbsd_4 : 156\n",
      "Number of images in cbsd_5 : 7\n",
      "_________________________________________\n",
      "checking number of data samples for data/Severities_Final/cbb-levels/\n",
      "Number of images in cbb_1 : 38\n",
      "Number of images in cbb_2 : 208\n",
      "Number of images in cbb_3 : 162\n",
      "Number of images in cbb_4 : 50\n",
      "Number of images in cbb_5 : 5\n"
     ]
    }
   ],
   "source": [
    "def print_samples_counts(disease_path):\n",
    "    print '_________________________________________'\n",
    "    print 'checking number of data samples for', disease_path\n",
    "    for directory in os.listdir(disease_path):\n",
    "        if directory == '.DS_Store':\n",
    "            continue\n",
    "        full_path = os.path.join(disease_path, directory)\n",
    "        print 'Number of images in', directory,':', len(os.listdir(full_path))\n",
    "    return None\n",
    "\n",
    "print 'Health Samples:', len(os.listdir(healthy_path))\n",
    "print_samples_counts(cmd_path)\n",
    "print_samples_counts(cgm_path)\n",
    "print_samples_counts(cbsd_path)\n",
    "print_samples_counts(cbb_path)"
   ]
  },
  {
   "cell_type": "code",
   "execution_count": null,
   "metadata": {
    "collapsed": true
   },
   "outputs": [],
   "source": []
  }
 ],
 "metadata": {
  "kernelspec": {
   "display_name": "Python 2",
   "language": "python",
   "name": "python2"
  },
  "language_info": {
   "codemirror_mode": {
    "name": "ipython",
    "version": 2
   },
   "file_extension": ".py",
   "mimetype": "text/x-python",
   "name": "python",
   "nbconvert_exporter": "python",
   "pygments_lexer": "ipython2",
   "version": "2.7.12"
  }
 },
 "nbformat": 4,
 "nbformat_minor": 0
}
